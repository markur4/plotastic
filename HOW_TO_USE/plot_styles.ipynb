{
 "cells": [
  {
   "cell_type": "markdown",
   "metadata": {},
   "source": [
    "# Styles"
   ]
  },
  {
   "cell_type": "markdown",
   "metadata": {},
   "source": [
    "### Get Example Data"
   ]
  },
  {
   "cell_type": "code",
   "execution_count": 1,
   "metadata": {},
   "outputs": [
    {
     "data": {
      "text/html": [
       "<div>\n",
       "<style scoped>\n",
       "    .dataframe tbody tr th:only-of-type {\n",
       "        vertical-align: middle;\n",
       "    }\n",
       "\n",
       "    .dataframe tbody tr th {\n",
       "        vertical-align: top;\n",
       "    }\n",
       "\n",
       "    .dataframe thead th {\n",
       "        text-align: right;\n",
       "    }\n",
       "</style>\n",
       "<table border=\"1\" class=\"dataframe\">\n",
       "  <thead>\n",
       "    <tr style=\"text-align: right;\">\n",
       "      <th></th>\n",
       "      <th>Unnamed: 0</th>\n",
       "      <th>subject</th>\n",
       "      <th>timepoint</th>\n",
       "      <th>event</th>\n",
       "      <th>region</th>\n",
       "      <th>signal</th>\n",
       "    </tr>\n",
       "  </thead>\n",
       "  <tbody>\n",
       "    <tr>\n",
       "      <th>0</th>\n",
       "      <td>17</td>\n",
       "      <td>s7</td>\n",
       "      <td>9</td>\n",
       "      <td>stim</td>\n",
       "      <td>parietal</td>\n",
       "      <td>0.058897</td>\n",
       "    </tr>\n",
       "    <tr>\n",
       "      <th>1</th>\n",
       "      <td>36</td>\n",
       "      <td>s8</td>\n",
       "      <td>9</td>\n",
       "      <td>stim</td>\n",
       "      <td>parietal</td>\n",
       "      <td>0.170227</td>\n",
       "    </tr>\n",
       "    <tr>\n",
       "      <th>2</th>\n",
       "      <td>67</td>\n",
       "      <td>s0</td>\n",
       "      <td>0</td>\n",
       "      <td>stim</td>\n",
       "      <td>frontal</td>\n",
       "      <td>-0.021452</td>\n",
       "    </tr>\n",
       "    <tr>\n",
       "      <th>3</th>\n",
       "      <td>84</td>\n",
       "      <td>s1</td>\n",
       "      <td>0</td>\n",
       "      <td>stim</td>\n",
       "      <td>parietal</td>\n",
       "      <td>-0.064454</td>\n",
       "    </tr>\n",
       "    <tr>\n",
       "      <th>4</th>\n",
       "      <td>127</td>\n",
       "      <td>s13</td>\n",
       "      <td>9</td>\n",
       "      <td>stim</td>\n",
       "      <td>parietal</td>\n",
       "      <td>0.013245</td>\n",
       "    </tr>\n",
       "  </tbody>\n",
       "</table>\n",
       "</div>"
      ],
      "text/plain": [
       "   Unnamed: 0 subject  timepoint event    region    signal\n",
       "0          17      s7          9  stim  parietal  0.058897\n",
       "1          36      s8          9  stim  parietal  0.170227\n",
       "2          67      s0          0  stim   frontal -0.021452\n",
       "3          84      s1          0  stim  parietal -0.064454\n",
       "4         127     s13          9  stim  parietal  0.013245"
      ]
     },
     "execution_count": 1,
     "metadata": {},
     "output_type": "execute_result"
    }
   ],
   "source": [
    "import plotastic as plst\n",
    "\n",
    "# Import Example Data\n",
    "DF, _dims = plst.load_dataset(\"fmri\", verbose=False)\n",
    "\n",
    "DF.head()"
   ]
  },
  {
   "cell_type": "code",
   "execution_count": 2,
   "metadata": {},
   "outputs": [
    {
     "name": "stdout",
     "output_type": "stream",
     "text": [
      "===============================================================================\n",
      "#! Checking data integrity...\n",
      "✅ DATA COMPLETE: All combinations of levels from selected factors are present\n",
      "   in the Dataframe, including x.\n",
      "✅ GROUPS COMPLETE: No groups with NaNs.\n",
      "✅ GROUPS EQUAL: All groups (40 total) have the same samplesize n = 14.0.\n",
      "🌳 LEVELS WELL CONNECTED: These Factors have levels that are always found\n",
      "   together: ['region', 'event'].\n",
      "   👉 Call .levels_combocount() or .levels_dendrogram() to see them all.\n",
      "✅ Subjects complete: No subjects with missing data\n",
      "===============================================================================\n"
     ]
    }
   ],
   "source": [
    "# Define dimensions explicitly\n",
    "dims = dict(\n",
    "    y=\"signal\",\n",
    "    x=\"timepoint\",\n",
    "    hue=\"event\",\n",
    "    col=\"region\",\n",
    ")\n",
    "\n",
    "# Make DataAnalysis object\n",
    "DA = plst.DataAnalysis(\n",
    "    data=DF,  # Dataframe\n",
    "    dims=dims,  # Dictionary with y, x, hue, col, row\n",
    "    subject=\"subject\",  # Data is paired by subject (optional)\n",
    "    verbose=True,  # Print out Info about the Data\n",
    ")"
   ]
  },
  {
   "cell_type": "markdown",
   "metadata": {},
   "source": [
    "## What Styles are there?"
   ]
  },
  {
   "cell_type": "markdown",
   "metadata": {},
   "source": [
    "#### Print style names"
   ]
  },
  {
   "cell_type": "code",
   "execution_count": 3,
   "metadata": {},
   "outputs": [
    {
     "name": "stdout",
     "output_type": "stream",
     "text": [
      "plotastic:\n",
      "\t['default', 'paper']\n",
      "seaborn:\n",
      "\t['white', 'dark', 'whitegrid', 'darkgrid', 'ticks']\n",
      "matplotlib:\n",
      "\t['Solarize_Light2', '_classic_test_patch', '_mpl-gallery', '_mpl-gallery-nogrid', 'bmh', 'classic', 'dark_background', 'fast', 'fivethirtyeight', 'ggplot', 'grayscale', 'seaborn-v0_8', 'seaborn-v0_8-bright', 'seaborn-v0_8-colorblind', 'seaborn-v0_8-dark', 'seaborn-v0_8-dark-palette', 'seaborn-v0_8-darkgrid', 'seaborn-v0_8-deep', 'seaborn-v0_8-muted', 'seaborn-v0_8-notebook', 'seaborn-v0_8-paper', 'seaborn-v0_8-pastel', 'seaborn-v0_8-poster', 'seaborn-v0_8-talk', 'seaborn-v0_8-ticks', 'seaborn-v0_8-white', 'seaborn-v0_8-whitegrid', 'tableau-colorblind10']\n"
     ]
    }
   ],
   "source": [
    "plst.print_styles()"
   ]
  },
  {
   "cell_type": "markdown",
   "metadata": {},
   "source": [
    "#### Show all styles"
   ]
  },
  {
   "cell_type": "code",
   "execution_count": null,
   "metadata": {},
   "outputs": [],
   "source": []
  },
  {
   "cell_type": "markdown",
   "metadata": {},
   "source": [
    "## `plst.set_style()` takes styles from matplotlib, seaborn and plotastic!"
   ]
  },
  {
   "cell_type": "code",
   "execution_count": 4,
   "metadata": {},
   "outputs": [],
   "source": [
    "plst.set_style(\"paper\")"
   ]
  },
  {
   "cell_type": "markdown",
   "metadata": {},
   "source": [
    "## Colors"
   ]
  },
  {
   "cell_type": "code",
   "execution_count": null,
   "metadata": {},
   "outputs": [],
   "source": [
    "plst.set_palette([\"blue\", \"green\", \"red\"], verbose=False)"
   ]
  },
  {
   "cell_type": "markdown",
   "metadata": {},
   "source": []
  }
 ],
 "metadata": {
  "kernelspec": {
   "display_name": "venv",
   "language": "python",
   "name": "python3"
  },
  "language_info": {
   "codemirror_mode": {
    "name": "ipython",
    "version": 3
   },
   "file_extension": ".py",
   "mimetype": "text/x-python",
   "name": "python",
   "nbconvert_exporter": "python",
   "pygments_lexer": "ipython3",
   "version": "3.11.6"
  }
 },
 "nbformat": 4,
 "nbformat_minor": 2
}
