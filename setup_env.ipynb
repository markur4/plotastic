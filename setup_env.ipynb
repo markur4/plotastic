{
 "cells": [
  {
   "cell_type": "code",
   "execution_count": 2,
   "metadata": {},
   "outputs": [],
   "source": [
    "import subprocess\n",
    "import venv\n",
    "import os\n",
    "import requirements as req"
   ]
  },
  {
   "cell_type": "markdown",
   "metadata": {},
   "source": [
    "\n",
    "# Setup Environment for this Project\n",
    "### General Strategy: \n",
    "1. **How to handle virtuel environemts in the first place**\n",
    "   1. Do we need pyenv..? Let's try without..\n",
    "   2. Just install python versions with `brew`\n",
    "   3. Then setup a a virtual environment using `venv`` for each project\n",
    "2. **Setup a virtual environment using `venv`**\n",
    "    1. Collect and document requirements in `requirements.py` as you develop\n",
    "    2. Run this notebook to setup the environment\n",
    "        - Packages defined in `requirements.py` will be installed\n",
    "        - requirements.txt file will be exported into project folder for others to use\n",
    "        - This project will be added as editable mode to make it testable\n",
    "3. **Install this package with setup.py**\n",
    "    - requirements.txt is parsed\n",
    "    - package will be installed\n"
   ]
  },
  {
   "cell_type": "markdown",
   "metadata": {},
   "source": [
    "## 1. Base Python interpreter\n",
    "### Just use a global one from `brew`!"
   ]
  },
  {
   "cell_type": "code",
   "execution_count": 3,
   "metadata": {},
   "outputs": [],
   "source": [
    "# Install python\n",
    "# ! brew install python@3.11 # ! <-- Uncomment"
   ]
  },
  {
   "cell_type": "markdown",
   "metadata": {},
   "source": [
    "#### VSCode will ask us to select a python interpreter: For now, use the global one we installed"
   ]
  },
  {
   "cell_type": "markdown",
   "metadata": {},
   "source": [
    "#### Add base python interpreter to `PATH`? \n",
    "- No need to add to `PATH`, since we will use `venv` to create a virtual environment for each project\n",
    "- Having out terminal no connection with any python interpreter will make sure that we are not using the wrong interpreter by accident"
   ]
  },
  {
   "cell_type": "code",
   "execution_count": 4,
   "metadata": {},
   "outputs": [],
   "source": [
    "# Do NOT add the python interpreter to your path!\n",
    "## export PATH=\"/usr/local/opt/python/libexec/bin:$PATH\" # !!! Don't do this"
   ]
  },
  {
   "cell_type": "code",
   "execution_count": 5,
   "metadata": {},
   "outputs": [
    {
     "name": "stdout",
     "output_type": "stream",
     "text": [
      "24\n",
      "/opt/homebrew/bin\n",
      "/Users/martinkuric/Library/Python/3.11/bin\n",
      "/opt/homebrew/bin\n",
      "/opt/homebrew/sbin\n",
      "/usr/local/bin\n",
      "/System/Cryptexes/App/usr/bin\n",
      "/usr/bin\n",
      "/bin\n",
      "/usr/sbin\n",
      "/sbin\n",
      "/var/run/com.apple.security.cryptexd/codex.system/bootstrap/usr/local/bin\n",
      "/var/run/com.apple.security.cryptexd/codex.system/bootstrap/usr/bin\n",
      "/var/run/com.apple.security.cryptexd/codex.system/bootstrap/usr/appleinternal/bin\n",
      "/opt/homebrew/bin\n",
      "/opt/homebrew/sbin\n",
      "/usr/local/bin\n",
      "/System/Cryptexes/App/usr/bin\n",
      "/usr/bin\n",
      "/bin\n",
      "/usr/sbin\n",
      "/sbin\n",
      "/var/run/com.apple.security.cryptexd/codex.system/bootstrap/usr/local/bin\n",
      "/var/run/com.apple.security.cryptexd/codex.system/bootstrap/usr/bin\n",
      "/var/run/com.apple.security.cryptexd/codex.system/bootstrap/usr/appleinternal/bin\n",
      "\n"
     ]
    }
   ],
   "source": [
    "# Check PATH\n",
    "PATH = subprocess.check_output([\"echo $PATH\"], shell=True)\n",
    "PATH_list = PATH.decode(\"utf-8\").split(\":\")\n",
    "print(len(PATH_list))\n",
    "for path in PATH_list:\n",
    "    print(path)"
   ]
  },
  {
   "cell_type": "markdown",
   "metadata": {},
   "source": [
    "## 2. Setup a Virtual Environment using `venv`"
   ]
  },
  {
   "cell_type": "markdown",
   "metadata": {},
   "source": [
    "### Create environment"
   ]
  },
  {
   "cell_type": "code",
   "execution_count": 6,
   "metadata": {},
   "outputs": [
    {
     "data": {
      "text/plain": [
       "'./venv'"
      ]
     },
     "execution_count": 6,
     "metadata": {},
     "output_type": "execute_result"
    }
   ],
   "source": [
    "### Describe the folder stucture\n",
    "# ! VScode finds this automatically ONLY if it's in the root folder of the workspace\n",
    "PROJECT_DIR = \".\" \n",
    "ENV_NAME = \"venv\" # \n",
    "ENV_PATH = os.path.join(PROJECT_DIR, ENV_NAME)\n",
    "ENV_PATH\n"
   ]
  },
  {
   "cell_type": "code",
   "execution_count": 7,
   "metadata": {},
   "outputs": [],
   "source": [
    "### Create Virtual Environment\n",
    "# venv.create(env_dir=ENV_PATH, clear=True, with_pip=True) # ! <-- Uncomment"
   ]
  },
  {
   "cell_type": "markdown",
   "metadata": {},
   "source": [
    "### Activate Environment\n",
    "#### In Terminal:\n",
    "- Activate the environment with `source venv/bin/activate` (use `ENV_NAME` instead of `venv`)\n",
    "  - Check if the environment is active with `which python`\n",
    "  - Should point to the `venv/bin/python` file\n",
    "- Deactivate the environment with `deactivate`\n",
    "\n",
    "\n",
    "#### In VSCode:\n",
    "- Select the environment in VSCode with `Python: Select Interpreter` command (NOT in\n",
    "  this notebook!))\n",
    "  - Navigate to the `venv/bin/python` file\n",
    "- Select environment for THIS NOTEBOOK\n",
    "  - VScode will ask you to install the `IPython` extension, do that"
   ]
  },
  {
   "cell_type": "code",
   "execution_count": 9,
   "metadata": {},
   "outputs": [],
   "source": [
    "### Check if the virtual environment can be activated\n",
    "# ! This is a notebook, manually select the interpreter for the Jupyter Kernel\n",
    "! source venv/bin/activate  "
   ]
  },
  {
   "cell_type": "code",
   "execution_count": 10,
   "metadata": {},
   "outputs": [
    {
     "name": "stdout",
     "output_type": "stream",
     "text": [
      "python not found\n"
     ]
    }
   ],
   "source": [
    "### Check if the virtual environment is active\n",
    "! which python # ! Should be within the project directory"
   ]
  },
  {
   "cell_type": "markdown",
   "metadata": {},
   "source": [
    "## 3 Install Packages\n",
    "1. **Prepare requirements**\n",
    "   1. The *main place* where requirements are gathered and documented is `requirements.py`\n",
    "   2. Pip taxes in .txt, use `req.to_txt()` to export requirements to `requirements-dev.txt`\n",
    "   3. `requirements-dev.txt` has all packages the developer deems noting\n",
    "   4. `requirements.txt` has EVERY package gained from `pip freeze`\n",
    "2. **Install requirements**\n",
    "   - Install requirements with `pip install -r requirements-dev.txt`\n",
    "3. **Export requirements** \n",
    "   - `pip freeze > requirements.txt`\n",
    "   - This may be overwritten by anyone\n",
    "4. **pip install this Project in editable mode**\n",
    "   - `pip install -e .`\n",
    "   - Makes it testable"
   ]
  },
  {
   "cell_type": "code",
   "execution_count": 9,
   "metadata": {},
   "outputs": [
    {
     "data": {
      "text/plain": [
       "['numpy',\n",
       " 'pandas==1.5.3',\n",
       " 'matplotlib',\n",
       " 'seaborn',\n",
       " 'scipy',\n",
       " 'statannotations',\n",
       " 'pingouin',\n",
       " 'joblib',\n",
       " 'pyperclip',\n",
       " 'colour',\n",
       " 'xlsxwriter']"
      ]
     },
     "execution_count": 9,
     "metadata": {},
     "output_type": "execute_result"
    }
   ],
   "source": [
    "### Check Requirements\n",
    "req.REQUIREMENTS"
   ]
  },
  {
   "cell_type": "code",
   "execution_count": 10,
   "metadata": {},
   "outputs": [
    {
     "data": {
      "text/plain": [
       "['ipynbname', 'pytest']"
      ]
     },
     "execution_count": 10,
     "metadata": {},
     "output_type": "execute_result"
    }
   ],
   "source": [
    "# Check extra requirements that are only installed if needed\n",
    "req.REQUIREMENTS_EXTRA"
   ]
  },
  {
   "cell_type": "code",
   "execution_count": 16,
   "metadata": {},
   "outputs": [],
   "source": [
    "### Pip can't handle comments, make a new temporary file\n",
    "req.to_txt(fname=\"requirements-dev.txt\", requirements=req.REQUIREMENTS)"
   ]
  },
  {
   "cell_type": "code",
   "execution_count": 12,
   "metadata": {},
   "outputs": [
    {
     "name": "stdout",
     "output_type": "stream",
     "text": [
      "zsh:1: command not found: pip\n"
     ]
    }
   ],
   "source": [
    "### Install requirements from a file without comments\n",
    "! pip install -r requirements-dev.txt"
   ]
  },
  {
   "cell_type": "code",
   "execution_count": 13,
   "metadata": {},
   "outputs": [
    {
     "name": "stdout",
     "output_type": "stream",
     "text": [
      "zsh:1: command not found: pip\n"
     ]
    }
   ],
   "source": [
    "### Export requirements to be used by the publix\n",
    "! pip freeze > ../requirements.txt"
   ]
  },
  {
   "cell_type": "markdown",
   "metadata": {},
   "source": [
    "### `pip install -e .`"
   ]
  },
  {
   "cell_type": "code",
   "execution_count": 14,
   "metadata": {},
   "outputs": [],
   "source": [
    "### Direct to the project directory where setup.py is located\n",
    "# ? This can take a while\n",
    "# ! pip install -e ../ # ! <-- Uncomment"
   ]
  },
  {
   "cell_type": "code",
   "execution_count": 15,
   "metadata": {},
   "outputs": [
    {
     "ename": "ModuleNotFoundError",
     "evalue": "No module named 'plotastic'",
     "output_type": "error",
     "traceback": [
      "\u001b[0;31m---------------------------------------------------------------------------\u001b[0m",
      "\u001b[0;31mModuleNotFoundError\u001b[0m                       Traceback (most recent call last)",
      "\u001b[1;32m/Users/martinkuric/_REPOS/plotastic/setup_env.ipynb Cell 24\u001b[0m line \u001b[0;36m2\n\u001b[1;32m      <a href='vscode-notebook-cell:/Users/martinkuric/_REPOS/plotastic/setup_env.ipynb#X32sZmlsZQ%3D%3D?line=0'>1</a>\u001b[0m \u001b[39m### test if package is importable\u001b[39;00m\n\u001b[0;32m----> <a href='vscode-notebook-cell:/Users/martinkuric/_REPOS/plotastic/setup_env.ipynb#X32sZmlsZQ%3D%3D?line=1'>2</a>\u001b[0m \u001b[39mimport\u001b[39;00m \u001b[39mplotastic\u001b[39;00m \u001b[39m# ! Need to restart kernel if freshly installed\u001b[39;00m\n",
      "\u001b[0;31mModuleNotFoundError\u001b[0m: No module named 'plotastic'"
     ]
    }
   ],
   "source": [
    "### test if package is importable\n",
    "import plotastic # ! Need to restart kernel if freshly installed"
   ]
  },
  {
   "cell_type": "code",
   "execution_count": null,
   "metadata": {},
   "outputs": [
    {
     "name": "stdout",
     "output_type": "stream",
     "text": [
      "Found existing installation: plotastic 0.0.1\n",
      "Uninstalling plotastic-0.0.1:\n",
      "  Successfully uninstalled plotastic-0.0.1\n"
     ]
    }
   ],
   "source": [
    "### uninstall to reinstall\n",
    "# ! pip uninstall plotastic -y"
   ]
  },
  {
   "cell_type": "markdown",
   "metadata": {},
   "source": [
    "## Old Shell scripts"
   ]
  },
  {
   "cell_type": "code",
   "execution_count": null,
   "metadata": {},
   "outputs": [],
   "source": [
    "# import subprocess\n",
    "\n",
    "# # Set the desired Python version (retrieve from setup.py)\n",
    "# PYTHON_VERSION = \"3.11\"  # Replace with actual Python version from setup.py\n",
    "\n",
    "# # Path to your project folder (modify as needed)\n",
    "# PROJECT_PATH = \"/path/to/your/project\"\n",
    "\n",
    "# # Create a virtual environment with the desired Python version\n",
    "# subprocess.run([\"python\" + PYTHON_VERSION, \"-m\", \"venv\", f\"{PROJECT_PATH}/venv\"])\n",
    "\n",
    "# # Activate the virtual environment\n",
    "# subprocess.run([\"source\", f\"{PROJECT_PATH}/venv/bin/activate\"])\n",
    "\n",
    "# # Install your project's dependencies from the REQUIREMENTS variable in setup.py\n",
    "# # Ensure that setup.py contains the REQUIREMENTS variable in the expected format\n",
    "# # For example, REQUIREMENTS = [\"package1\", \"package2\"]\n",
    "# subprocess.run([\"python\", \"-c\", \"from setup import REQUIREMENTS; import subprocess; subprocess.run(['pip', 'install'] + REQUIREMENTS)\"])\n",
    "\n",
    "# # Deactivate the virtual environment when you're done\n",
    "# subprocess.run([\"deactivate\"])\n"
   ]
  },
  {
   "cell_type": "code",
   "execution_count": null,
   "metadata": {},
   "outputs": [],
   "source": [
    "# #!/bin/bash\n",
    "\n",
    "# # ! Execute from within project folder, where setup.py is located\n",
    "\n",
    "# ### Retrieve python version from ./setup.py and store in variable\n",
    "# PYTHON_VERSION=$(python -c \"import ast; exec(open('./setup.py').read()); print(PYTHON_VERSION)\")\n",
    "\n",
    "# ### Path to your project folder\n",
    "# PROJECT_PATH=\".\"\n",
    "\n",
    "# ### Name of folder to store virtual environment\n",
    "# VENV=\".venv\"\n",
    "\n",
    "# ### Create a virtual environment with the desired Python version\n",
    "# # python3.11 -m venv \"./.venv\"\n",
    "# python$PYTHON_VERSION -m venv $PROJECT_PATH/$VENV\n",
    "\n",
    "# ### Activate the virtual environment\n",
    "# # source \"./.venv/bin/activate\"\n",
    "# source $PROJECT_PATH/$VENV/bin/activate\n",
    "\n",
    "# ### Install your project's dependencies from the REQUIREMENTS variable in setup.py\n",
    "# # ! Ensure that setup.py contains the REQUIREMENTS variable in the expected format\n",
    "# # * For example, REQUIREMENTS = [\"package1\", \"package2\"]\n",
    "# # pip install -r requirements.txt\n",
    "# python -c \"from setup import REQUIREMENTS; import subprocess; subprocess.run(['pip', 'install'] + REQUIREMENTS)\"\n",
    "\n",
    "# ### Make a requirements.txt file for your project\n",
    "# pip freeze > requirements.txt\n",
    "\n",
    "# ### Don't peactivate the virtual environment when you're done\n",
    "# # deactivate"
   ]
  }
 ],
 "metadata": {
  "kernelspec": {
   "display_name": "Python 3",
   "language": "python",
   "name": "python3"
  },
  "language_info": {
   "codemirror_mode": {
    "name": "ipython",
    "version": 3
   },
   "file_extension": ".py",
   "mimetype": "text/x-python",
   "name": "python",
   "nbconvert_exporter": "python",
   "pygments_lexer": "ipython3",
   "version": "3.11.6"
  }
 },
 "nbformat": 4,
 "nbformat_minor": 2
}
