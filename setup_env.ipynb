{
 "cells": [
  {
   "cell_type": "code",
   "execution_count": 1,
   "metadata": {},
   "outputs": [],
   "source": [
    "import subprocess\n",
    "import venv\n",
    "import os\n",
    "import requirements as req"
   ]
  },
  {
   "cell_type": "markdown",
   "metadata": {},
   "source": [
    "\n",
    "# Setup Environment for this Project\n",
    "### General Strategy: \n",
    "1. **How to handle virtuel environemts in the first place**\n",
    "   1. Do we need pyenv..? Let's try without..\n",
    "   2. Just install python versions with `brew`\n",
    "   3. Then setup a a virtual environment using `venv`` for each project\n",
    "2. **Setup a virtual environment using `venv`**\n",
    "    1. Collect and document requirements in `requirements.py` as you develop\n",
    "    2. Run this notebook to setup the environment\n",
    "        - Packages defined in `requirements.py` will be installed\n",
    "        - requirements.txt file will be exported into project folder for others to use\n",
    "        - This project will be added as editable mode to make it testable\n",
    "3. **Install this package with setup.py**\n",
    "    - requirements.txt is parsed\n",
    "    - package will be installed\n"
   ]
  },
  {
   "cell_type": "markdown",
   "metadata": {},
   "source": [
    "## 1. Base Python interpreter\n",
    "### Just use a global one from `brew`!"
   ]
  },
  {
   "cell_type": "code",
   "execution_count": 2,
   "metadata": {},
   "outputs": [],
   "source": [
    "# Install python\n",
    "# ! brew install python@3.11 # ! <-- Uncomment"
   ]
  },
  {
   "cell_type": "markdown",
   "metadata": {},
   "source": [
    "#### VSCode will ask us to select a python interpreter: For now, use the global one we installed"
   ]
  },
  {
   "cell_type": "markdown",
   "metadata": {},
   "source": [
    "#### Add base python interpreter to `PATH`? \n",
    "- No need to add to `PATH`, since we will use `venv` to create a virtual environment for each project\n",
    "- Having out terminal no connection with any python interpreter will make sure that we are not using the wrong interpreter by accident"
   ]
  },
  {
   "cell_type": "code",
   "execution_count": 3,
   "metadata": {},
   "outputs": [],
   "source": [
    "# Do NOT add the python interpreter to your path!\n",
    "## export PATH=\"/usr/local/opt/python/libexec/bin:$PATH\" # !!! Don't do this"
   ]
  },
  {
   "cell_type": "code",
   "execution_count": 4,
   "metadata": {},
   "outputs": [
    {
     "name": "stdout",
     "output_type": "stream",
     "text": [
      "12\n",
      "/Users/martinkuric/_REPOS/plotastic/venv/bin\n",
      "/opt/homebrew/bin\n",
      "/opt/homebrew/sbin\n",
      "/usr/local/bin\n",
      "/System/Cryptexes/App/usr/bin\n",
      "/usr/bin\n",
      "/bin\n",
      "/usr/sbin\n",
      "/sbin\n",
      "/var/run/com.apple.security.cryptexd/codex.system/bootstrap/usr/local/bin\n",
      "/var/run/com.apple.security.cryptexd/codex.system/bootstrap/usr/bin\n",
      "/var/run/com.apple.security.cryptexd/codex.system/bootstrap/usr/appleinternal/bin\n",
      "\n"
     ]
    }
   ],
   "source": [
    "# Check PATH\n",
    "PATH = subprocess.check_output([\"echo $PATH\"], shell=True)\n",
    "PATH_list = PATH.decode(\"utf-8\").split(\":\")\n",
    "print(len(PATH_list))\n",
    "for path in PATH_list:\n",
    "    print(path)"
   ]
  },
  {
   "cell_type": "markdown",
   "metadata": {},
   "source": [
    "## 2. Setup a Virtual Environment using `venv`"
   ]
  },
  {
   "cell_type": "markdown",
   "metadata": {},
   "source": [
    "### Create environment"
   ]
  },
  {
   "cell_type": "code",
   "execution_count": 5,
   "metadata": {},
   "outputs": [
    {
     "data": {
      "text/plain": [
       "'./venv'"
      ]
     },
     "execution_count": 5,
     "metadata": {},
     "output_type": "execute_result"
    }
   ],
   "source": [
    "### Describe the folder stucture\n",
    "# ! VScode finds this automatically ONLY if it's in the root folder of the workspace\n",
    "PROJECT_DIR = \".\" # ! Don't change, or vscode won't find it\n",
    "ENV_NAME = \"venv\" # \n",
    "ENV_PATH = os.path.join(PROJECT_DIR, ENV_NAME)\n",
    "ENV_PATH"
   ]
  },
  {
   "cell_type": "code",
   "execution_count": 2,
   "metadata": {},
   "outputs": [],
   "source": [
    "### Create Virtual Environment\n",
    "# venv.create(env_dir=ENV_PATH, clear=True, with_pip=True) # ! <-- Uncomment"
   ]
  },
  {
   "cell_type": "markdown",
   "metadata": {},
   "source": [
    "### Activate Environment\n",
    "#### In Terminal:\n",
    "- Activate the environment with `source venv/bin/activate` (use `ENV_NAME` instead of `venv`)\n",
    "  - Check if the environment is active with `which python`\n",
    "  - Should point to the `venv/bin/python` file\n",
    "- Deactivate the environment with `deactivate`\n",
    "\n",
    "\n",
    "#### In VSCode:\n",
    "- Select the environment in VSCode with `Python: Select Interpreter` command (NOT in\n",
    "  this notebook!))\n",
    "  - Navigate to the `venv/bin/python` file\n",
    "- Select environment for THIS NOTEBOOK\n",
    "  - VScode will ask you to install the `IPython` extension, do that"
   ]
  },
  {
   "cell_type": "code",
   "execution_count": 3,
   "metadata": {},
   "outputs": [],
   "source": [
    "### Check if the virtual environment can be activated\n",
    "# ! This is a notebook, manually select the interpreter for the Jupyter Kernel\n",
    "! source venv/bin/activate  "
   ]
  },
  {
   "cell_type": "code",
   "execution_count": 4,
   "metadata": {},
   "outputs": [
    {
     "name": "stdout",
     "output_type": "stream",
     "text": [
      "/Users/martinkuric/_REPOS/plotastic/venv/bin/python\n"
     ]
    }
   ],
   "source": [
    "### Check if the virtual environment is active\n",
    "! which python # ! Should be within the project directory"
   ]
  },
  {
   "cell_type": "code",
   "execution_count": 10,
   "metadata": {},
   "outputs": [
    {
     "name": "stdout",
     "output_type": "stream",
     "text": [
      "Collecting pytest\n",
      "  Obtaining dependency information for pytest from https://files.pythonhosted.org/packages/f3/8c/f16efd81ca8e293b2cc78f111190a79ee539d0d5d36ccd49975cb3beac60/pytest-7.4.3-py3-none-any.whl.metadata\n",
      "  Downloading pytest-7.4.3-py3-none-any.whl.metadata (7.9 kB)\n",
      "Collecting iniconfig (from pytest)\n",
      "  Using cached iniconfig-2.0.0-py3-none-any.whl (5.9 kB)\n",
      "Requirement already satisfied: packaging in ./venv/lib/python3.11/site-packages (from pytest) (23.2)\n",
      "Collecting pluggy<2.0,>=0.12 (from pytest)\n",
      "  Obtaining dependency information for pluggy<2.0,>=0.12 from https://files.pythonhosted.org/packages/05/b8/42ed91898d4784546c5f06c60506400548db3f7a4b3fb441cba4e5c17952/pluggy-1.3.0-py3-none-any.whl.metadata\n",
      "  Using cached pluggy-1.3.0-py3-none-any.whl.metadata (4.3 kB)\n",
      "Downloading pytest-7.4.3-py3-none-any.whl (325 kB)\n",
      "\u001b[2K   \u001b[90m━━━━━━━━━━━━━━━━━━━━━━━━━━━━━━━━━━━━━━━━\u001b[0m \u001b[32m325.1/325.1 kB\u001b[0m \u001b[31m3.1 MB/s\u001b[0m eta \u001b[36m0:00:00\u001b[0ma \u001b[36m0:00:01\u001b[0m\n",
      "\u001b[?25hUsing cached pluggy-1.3.0-py3-none-any.whl (18 kB)\n",
      "Installing collected packages: pluggy, iniconfig, pytest\n",
      "Successfully installed iniconfig-2.0.0 pluggy-1.3.0 pytest-7.4.3\n",
      "\n",
      "\u001b[1m[\u001b[0m\u001b[34;49mnotice\u001b[0m\u001b[1;39;49m]\u001b[0m\u001b[39;49m A new release of pip is available: \u001b[0m\u001b[31;49m23.2.1\u001b[0m\u001b[39;49m -> \u001b[0m\u001b[32;49m23.3.1\u001b[0m\n",
      "\u001b[1m[\u001b[0m\u001b[34;49mnotice\u001b[0m\u001b[1;39;49m]\u001b[0m\u001b[39;49m To update, run: \u001b[0m\u001b[32;49mpip install --upgrade pip\u001b[0m\n"
     ]
    }
   ],
   "source": [
    "! pip install pytest"
   ]
  },
  {
   "cell_type": "markdown",
   "metadata": {},
   "source": [
    "## 3. Install Project Requirements\n",
    "1. **Prepare requirements**\n",
    "   1. The *main place* where requirements are gathered and documented is `requirements.py`\n",
    "   2. Pip taxes in .txt, use `req.to_txt()` to export requirements to `requirements-dev.txt`\n",
    "   3. `requirements-dev.txt` has all packages the developer deems noting\n",
    "   4. `requirements.txt` has EVERY package gained from `pip freeze`\n",
    "2. **Install requirements**\n",
    "   - Install requirements with `pip install -r requirements-dev.txt`\n",
    "3. **Export requirements** \n",
    "   - `pip freeze > requirements.txt`\n",
    "   - This may be overwritten by anyone\n",
    "4. **pip install this Project in editable mode**\n",
    "   - `pip install -e .`\n",
    "   - Makes it testable"
   ]
  },
  {
   "cell_type": "code",
   "execution_count": 6,
   "metadata": {},
   "outputs": [
    {
     "data": {
      "text/plain": [
       "['numpy',\n",
       " 'pandas==1.5.3',\n",
       " 'matplotlib',\n",
       " 'seaborn',\n",
       " 'scipy',\n",
       " 'statannotations',\n",
       " 'pingouin',\n",
       " 'joblib',\n",
       " 'pyperclip',\n",
       " 'colour',\n",
       " 'xlsxwriter',\n",
       " 'ipynbname',\n",
       " 'openpyxl']"
      ]
     },
     "execution_count": 6,
     "metadata": {},
     "output_type": "execute_result"
    }
   ],
   "source": [
    "### Check Requirements\n",
    "req.REQUIREMENTS"
   ]
  },
  {
   "cell_type": "code",
   "execution_count": 7,
   "metadata": {},
   "outputs": [
    {
     "data": {
      "text/plain": [
       "[]"
      ]
     },
     "execution_count": 7,
     "metadata": {},
     "output_type": "execute_result"
    }
   ],
   "source": [
    "# Check extra requirements that are only installed if needed\n",
    "req.REQUIREMENTS_EXTRA"
   ]
  },
  {
   "cell_type": "code",
   "execution_count": 8,
   "metadata": {},
   "outputs": [],
   "source": [
    "### Pip can't handle comments, make a new temporary file\n",
    "req.to_txt(fname=\"requirements-dev.txt\", requirements=req.REQUIREMENTS)"
   ]
  },
  {
   "cell_type": "code",
   "execution_count": 8,
   "metadata": {},
   "outputs": [
    {
     "name": "stdout",
     "output_type": "stream",
     "text": [
      "Collecting numpy (from -r requirements-dev.txt (line 1))\n",
      "  Obtaining dependency information for numpy from https://files.pythonhosted.org/packages/e8/06/0512e2582fd27bb7b358fa1e4ffc0f6c89c89f5ada31df58c5fa93171098/numpy-1.26.1-cp311-cp311-macosx_11_0_arm64.whl.metadata\n",
      "  Using cached numpy-1.26.1-cp311-cp311-macosx_11_0_arm64.whl.metadata (115 kB)\n",
      "Collecting pandas==1.5.3 (from -r requirements-dev.txt (line 2))\n",
      "  Using cached pandas-1.5.3-cp311-cp311-macosx_11_0_arm64.whl (10.8 MB)\n",
      "Collecting matplotlib (from -r requirements-dev.txt (line 3))\n",
      "  Obtaining dependency information for matplotlib from https://files.pythonhosted.org/packages/af/f3/fb27b3b902fc759bbca3f9d0336c48069c3022e57552c4b0095d997c7ea8/matplotlib-3.8.0-cp311-cp311-macosx_11_0_arm64.whl.metadata\n",
      "  Using cached matplotlib-3.8.0-cp311-cp311-macosx_11_0_arm64.whl.metadata (5.8 kB)\n",
      "Collecting seaborn (from -r requirements-dev.txt (line 4))\n",
      "  Obtaining dependency information for seaborn from https://files.pythonhosted.org/packages/7b/e5/83fcd7e9db036c179e0352bfcd20f81d728197a16f883e7b90307a88e65e/seaborn-0.13.0-py3-none-any.whl.metadata\n",
      "  Using cached seaborn-0.13.0-py3-none-any.whl.metadata (5.3 kB)\n",
      "Collecting scipy (from -r requirements-dev.txt (line 5))\n",
      "  Obtaining dependency information for scipy from https://files.pythonhosted.org/packages/50/8b/2057417a07a6fee8ed8be40e37bac4a502cae4cf44468a02962bbe81b8af/scipy-1.11.3-cp311-cp311-macosx_12_0_arm64.whl.metadata\n",
      "  Using cached scipy-1.11.3-cp311-cp311-macosx_12_0_arm64.whl.metadata (165 kB)\n",
      "Collecting statannotations (from -r requirements-dev.txt (line 6))\n",
      "  Obtaining dependency information for statannotations from https://files.pythonhosted.org/packages/ff/b5/f9ba964b1391e4b3982342a618b745bff403a3fc4761090daf241726febf/statannotations-0.6.0-py3-none-any.whl.metadata\n",
      "  Using cached statannotations-0.6.0-py3-none-any.whl.metadata (8.0 kB)\n",
      "Collecting pingouin (from -r requirements-dev.txt (line 7))\n",
      "  Using cached pingouin-0.5.3-py3-none-any.whl (198 kB)\n",
      "Collecting joblib (from -r requirements-dev.txt (line 8))\n",
      "  Obtaining dependency information for joblib from https://files.pythonhosted.org/packages/10/40/d551139c85db202f1f384ba8bcf96aca2f329440a844f924c8a0040b6d02/joblib-1.3.2-py3-none-any.whl.metadata\n",
      "  Using cached joblib-1.3.2-py3-none-any.whl.metadata (5.4 kB)\n",
      "Collecting pyperclip (from -r requirements-dev.txt (line 9))\n",
      "  Using cached pyperclip-1.8.2-py3-none-any.whl\n",
      "Collecting colour (from -r requirements-dev.txt (line 10))\n",
      "  Using cached colour-0.1.5-py2.py3-none-any.whl (23 kB)\n",
      "Collecting xlsxwriter (from -r requirements-dev.txt (line 11))\n",
      "  Obtaining dependency information for xlsxwriter from https://files.pythonhosted.org/packages/f7/3e/05ba2194cd5073602422859c949a4f21310a3c49bf8dccde9e03d4522b11/XlsxWriter-3.1.9-py3-none-any.whl.metadata\n",
      "  Using cached XlsxWriter-3.1.9-py3-none-any.whl.metadata (2.6 kB)\n",
      "Requirement already satisfied: python-dateutil>=2.8.1 in ./venv/lib/python3.11/site-packages (from pandas==1.5.3->-r requirements-dev.txt (line 2)) (2.8.2)\n",
      "Collecting pytz>=2020.1 (from pandas==1.5.3->-r requirements-dev.txt (line 2))\n",
      "  Obtaining dependency information for pytz>=2020.1 from https://files.pythonhosted.org/packages/32/4d/aaf7eff5deb402fd9a24a1449a8119f00d74ae9c2efa79f8ef9994261fc2/pytz-2023.3.post1-py2.py3-none-any.whl.metadata\n",
      "  Using cached pytz-2023.3.post1-py2.py3-none-any.whl.metadata (22 kB)\n",
      "Collecting contourpy>=1.0.1 (from matplotlib->-r requirements-dev.txt (line 3))\n",
      "  Obtaining dependency information for contourpy>=1.0.1 from https://files.pythonhosted.org/packages/2c/8e/656f8e7cd316aa68d9824744773e90dbd71f847429d10c82001e927480a2/contourpy-1.1.1-cp311-cp311-macosx_11_0_arm64.whl.metadata\n",
      "  Using cached contourpy-1.1.1-cp311-cp311-macosx_11_0_arm64.whl.metadata (5.9 kB)\n",
      "Collecting cycler>=0.10 (from matplotlib->-r requirements-dev.txt (line 3))\n",
      "  Obtaining dependency information for cycler>=0.10 from https://files.pythonhosted.org/packages/e7/05/c19819d5e3d95294a6f5947fb9b9629efb316b96de511b418c53d245aae6/cycler-0.12.1-py3-none-any.whl.metadata\n",
      "  Using cached cycler-0.12.1-py3-none-any.whl.metadata (3.8 kB)\n",
      "Collecting fonttools>=4.22.0 (from matplotlib->-r requirements-dev.txt (line 3))\n",
      "  Obtaining dependency information for fonttools>=4.22.0 from https://files.pythonhosted.org/packages/49/ba/ebe5599acf47371393191091ae95fca08eb6f12fd151b52c8dbebb990d25/fonttools-4.43.1-cp311-cp311-macosx_10_9_universal2.whl.metadata\n",
      "  Using cached fonttools-4.43.1-cp311-cp311-macosx_10_9_universal2.whl.metadata (152 kB)\n",
      "Collecting kiwisolver>=1.0.1 (from matplotlib->-r requirements-dev.txt (line 3))\n",
      "  Obtaining dependency information for kiwisolver>=1.0.1 from https://files.pythonhosted.org/packages/4a/fe/23d7fa78f7c66086d196406beb1fb2eaf629dd7adc01c3453033303d17fa/kiwisolver-1.4.5-cp311-cp311-macosx_11_0_arm64.whl.metadata\n",
      "  Using cached kiwisolver-1.4.5-cp311-cp311-macosx_11_0_arm64.whl.metadata (6.4 kB)\n",
      "Requirement already satisfied: packaging>=20.0 in ./venv/lib/python3.11/site-packages (from matplotlib->-r requirements-dev.txt (line 3)) (23.2)\n",
      "Collecting pillow>=6.2.0 (from matplotlib->-r requirements-dev.txt (line 3))\n",
      "  Obtaining dependency information for pillow>=6.2.0 from https://files.pythonhosted.org/packages/c3/5b/6bcfd0c2631d1ce4bb29ea597556ed2783404c5ad38635caf7b3f2b19073/Pillow-10.1.0-cp311-cp311-macosx_11_0_arm64.whl.metadata\n",
      "  Using cached Pillow-10.1.0-cp311-cp311-macosx_11_0_arm64.whl.metadata (9.5 kB)\n",
      "Collecting pyparsing>=2.3.1 (from matplotlib->-r requirements-dev.txt (line 3))\n",
      "  Obtaining dependency information for pyparsing>=2.3.1 from https://files.pythonhosted.org/packages/39/92/8486ede85fcc088f1b3dba4ce92dd29d126fd96b0008ea213167940a2475/pyparsing-3.1.1-py3-none-any.whl.metadata\n",
      "  Using cached pyparsing-3.1.1-py3-none-any.whl.metadata (5.1 kB)\n",
      "Collecting seaborn (from -r requirements-dev.txt (line 4))\n",
      "  Using cached seaborn-0.11.2-py3-none-any.whl (292 kB)\n",
      "Collecting statsmodels>=0.13 (from pingouin->-r requirements-dev.txt (line 7))\n",
      "  Using cached statsmodels-0.14.0-cp311-cp311-macosx_11_0_arm64.whl (9.4 MB)\n",
      "Collecting scikit-learn (from pingouin->-r requirements-dev.txt (line 7))\n",
      "  Obtaining dependency information for scikit-learn from https://files.pythonhosted.org/packages/40/c6/2e91eefb757822e70d351e02cc38d07c137212ae7c41ac12746415b4860a/scikit_learn-1.3.2-cp311-cp311-macosx_12_0_arm64.whl.metadata\n",
      "  Using cached scikit_learn-1.3.2-cp311-cp311-macosx_12_0_arm64.whl.metadata (11 kB)\n",
      "Collecting pandas-flavor>=0.2.0 (from pingouin->-r requirements-dev.txt (line 7))\n",
      "  Obtaining dependency information for pandas-flavor>=0.2.0 from https://files.pythonhosted.org/packages/67/1a/bfb5574b215f530c7ac5be684f33d60b299abbebd763c203aa31755f2fb2/pandas_flavor-0.6.0-py3-none-any.whl.metadata\n",
      "  Using cached pandas_flavor-0.6.0-py3-none-any.whl.metadata (6.3 kB)\n",
      "Collecting outdated (from pingouin->-r requirements-dev.txt (line 7))\n",
      "  Using cached outdated-0.2.2-py2.py3-none-any.whl (7.5 kB)\n",
      "Collecting tabulate (from pingouin->-r requirements-dev.txt (line 7))\n",
      "  Using cached tabulate-0.9.0-py3-none-any.whl (35 kB)\n",
      "Collecting xarray (from pandas-flavor>=0.2.0->pingouin->-r requirements-dev.txt (line 7))\n",
      "  Obtaining dependency information for xarray from https://files.pythonhosted.org/packages/1a/66/39d1df58fc6f06c19551dd9c8da5f9504b424b7f7212424fe25e69f97149/xarray-2023.10.1-py3-none-any.whl.metadata\n",
      "  Using cached xarray-2023.10.1-py3-none-any.whl.metadata (10 kB)\n",
      "Requirement already satisfied: six>=1.5 in ./venv/lib/python3.11/site-packages (from python-dateutil>=2.8.1->pandas==1.5.3->-r requirements-dev.txt (line 2)) (1.16.0)\n",
      "Collecting patsy>=0.5.2 (from statsmodels>=0.13->pingouin->-r requirements-dev.txt (line 7))\n",
      "  Using cached patsy-0.5.3-py2.py3-none-any.whl (233 kB)\n",
      "Requirement already satisfied: setuptools>=44 in ./venv/lib/python3.11/site-packages (from outdated->pingouin->-r requirements-dev.txt (line 7)) (68.2.2)\n",
      "Collecting littleutils (from outdated->pingouin->-r requirements-dev.txt (line 7))\n",
      "  Using cached littleutils-0.2.2-py3-none-any.whl\n",
      "Collecting requests (from outdated->pingouin->-r requirements-dev.txt (line 7))\n",
      "  Obtaining dependency information for requests from https://files.pythonhosted.org/packages/70/8e/0e2d847013cb52cd35b38c009bb167a1a26b2ce6cd6965bf26b47bc0bf44/requests-2.31.0-py3-none-any.whl.metadata\n",
      "  Using cached requests-2.31.0-py3-none-any.whl.metadata (4.6 kB)\n",
      "Collecting threadpoolctl>=2.0.0 (from scikit-learn->pingouin->-r requirements-dev.txt (line 7))\n",
      "  Obtaining dependency information for threadpoolctl>=2.0.0 from https://files.pythonhosted.org/packages/81/12/fd4dea011af9d69e1cad05c75f3f7202cdcbeac9b712eea58ca779a72865/threadpoolctl-3.2.0-py3-none-any.whl.metadata\n",
      "  Using cached threadpoolctl-3.2.0-py3-none-any.whl.metadata (10.0 kB)\n",
      "Collecting charset-normalizer<4,>=2 (from requests->outdated->pingouin->-r requirements-dev.txt (line 7))\n",
      "  Obtaining dependency information for charset-normalizer<4,>=2 from https://files.pythonhosted.org/packages/49/48/b89a9ccc78ea7a2a0b37c20a912b98c840210f277747e2380ee8d72784cc/charset_normalizer-3.3.1-cp311-cp311-macosx_11_0_arm64.whl.metadata\n",
      "  Using cached charset_normalizer-3.3.1-cp311-cp311-macosx_11_0_arm64.whl.metadata (33 kB)\n",
      "Collecting idna<4,>=2.5 (from requests->outdated->pingouin->-r requirements-dev.txt (line 7))\n",
      "  Using cached idna-3.4-py3-none-any.whl (61 kB)\n",
      "Collecting urllib3<3,>=1.21.1 (from requests->outdated->pingouin->-r requirements-dev.txt (line 7))\n",
      "  Obtaining dependency information for urllib3<3,>=1.21.1 from https://files.pythonhosted.org/packages/d2/b2/b157855192a68541a91ba7b2bbcb91f1b4faa51f8bae38d8005c034be524/urllib3-2.0.7-py3-none-any.whl.metadata\n",
      "  Using cached urllib3-2.0.7-py3-none-any.whl.metadata (6.6 kB)\n",
      "Collecting certifi>=2017.4.17 (from requests->outdated->pingouin->-r requirements-dev.txt (line 7))\n",
      "  Obtaining dependency information for certifi>=2017.4.17 from https://files.pythonhosted.org/packages/4c/dd/2234eab22353ffc7d94e8d13177aaa050113286e93e7b40eae01fbf7c3d9/certifi-2023.7.22-py3-none-any.whl.metadata\n",
      "  Using cached certifi-2023.7.22-py3-none-any.whl.metadata (2.2 kB)\n",
      "Using cached numpy-1.26.1-cp311-cp311-macosx_11_0_arm64.whl (14.0 MB)\n",
      "Using cached matplotlib-3.8.0-cp311-cp311-macosx_11_0_arm64.whl (7.5 MB)\n",
      "Using cached scipy-1.11.3-cp311-cp311-macosx_12_0_arm64.whl (29.7 MB)\n",
      "Using cached statannotations-0.6.0-py3-none-any.whl (32 kB)\n",
      "Using cached joblib-1.3.2-py3-none-any.whl (302 kB)\n",
      "Using cached XlsxWriter-3.1.9-py3-none-any.whl (154 kB)\n",
      "Using cached contourpy-1.1.1-cp311-cp311-macosx_11_0_arm64.whl (233 kB)\n",
      "Using cached cycler-0.12.1-py3-none-any.whl (8.3 kB)\n",
      "Using cached fonttools-4.43.1-cp311-cp311-macosx_10_9_universal2.whl (2.7 MB)\n",
      "Using cached kiwisolver-1.4.5-cp311-cp311-macosx_11_0_arm64.whl (66 kB)\n",
      "Using cached pandas_flavor-0.6.0-py3-none-any.whl (7.2 kB)\n",
      "Using cached Pillow-10.1.0-cp311-cp311-macosx_11_0_arm64.whl (3.3 MB)\n",
      "Using cached pyparsing-3.1.1-py3-none-any.whl (103 kB)\n",
      "Using cached pytz-2023.3.post1-py2.py3-none-any.whl (502 kB)\n",
      "Using cached scikit_learn-1.3.2-cp311-cp311-macosx_12_0_arm64.whl (9.4 MB)\n",
      "Using cached threadpoolctl-3.2.0-py3-none-any.whl (15 kB)\n",
      "Using cached requests-2.31.0-py3-none-any.whl (62 kB)\n",
      "Using cached xarray-2023.10.1-py3-none-any.whl (1.1 MB)\n",
      "Using cached certifi-2023.7.22-py3-none-any.whl (158 kB)\n",
      "Using cached charset_normalizer-3.3.1-cp311-cp311-macosx_11_0_arm64.whl (116 kB)\n",
      "Using cached urllib3-2.0.7-py3-none-any.whl (124 kB)\n",
      "Installing collected packages: pytz, pyperclip, littleutils, colour, xlsxwriter, urllib3, threadpoolctl, tabulate, pyparsing, pillow, numpy, kiwisolver, joblib, idna, fonttools, cycler, charset-normalizer, certifi, scipy, requests, patsy, pandas, contourpy, xarray, statsmodels, scikit-learn, outdated, matplotlib, seaborn, pandas-flavor, statannotations, pingouin\n",
      "Successfully installed certifi-2023.7.22 charset-normalizer-3.3.1 colour-0.1.5 contourpy-1.1.1 cycler-0.12.1 fonttools-4.43.1 idna-3.4 joblib-1.3.2 kiwisolver-1.4.5 littleutils-0.2.2 matplotlib-3.8.0 numpy-1.26.1 outdated-0.2.2 pandas-1.5.3 pandas-flavor-0.6.0 patsy-0.5.3 pillow-10.1.0 pingouin-0.5.3 pyparsing-3.1.1 pyperclip-1.8.2 pytz-2023.3.post1 requests-2.31.0 scikit-learn-1.3.2 scipy-1.11.3 seaborn-0.11.2 statannotations-0.6.0 statsmodels-0.14.0 tabulate-0.9.0 threadpoolctl-3.2.0 urllib3-2.0.7 xarray-2023.10.1 xlsxwriter-3.1.9\n",
      "\n",
      "\u001b[1m[\u001b[0m\u001b[34;49mnotice\u001b[0m\u001b[1;39;49m]\u001b[0m\u001b[39;49m A new release of pip is available: \u001b[0m\u001b[31;49m23.2.1\u001b[0m\u001b[39;49m -> \u001b[0m\u001b[32;49m23.3.1\u001b[0m\n",
      "\u001b[1m[\u001b[0m\u001b[34;49mnotice\u001b[0m\u001b[1;39;49m]\u001b[0m\u001b[39;49m To update, run: \u001b[0m\u001b[32;49mpip install --upgrade pip\u001b[0m\n"
     ]
    }
   ],
   "source": [
    "### Install requirements from a file without comments\n",
    "! pip install -r requirements-dev.txt"
   ]
  },
  {
   "cell_type": "code",
   "execution_count": 9,
   "metadata": {},
   "outputs": [],
   "source": [
    "### Export requirements to be used by the publix\n",
    "! pip freeze > ../requirements.txt"
   ]
  },
  {
   "cell_type": "markdown",
   "metadata": {},
   "source": [
    "### `pip install -e .`"
   ]
  },
  {
   "cell_type": "code",
   "execution_count": 11,
   "metadata": {},
   "outputs": [
    {
     "name": "stdout",
     "output_type": "stream",
     "text": [
      "Obtaining file:///Users/martinkuric/_REPOS/plotastic\n",
      "  Installing build dependencies ... \u001b[?25ldone\n",
      "\u001b[?25h  Checking if build backend supports build_editable ... \u001b[?25ldone\n",
      "\u001b[?25h  Getting requirements to build editable ... \u001b[?25ldone\n",
      "\u001b[?25h  Preparing editable metadata (pyproject.toml) ... \u001b[?25ldone\n",
      "\u001b[?25hRequirement already satisfied: numpy in ./venv/lib/python3.11/site-packages (from plotastic==0.0.1) (1.26.1)\n",
      "Requirement already satisfied: pandas==1.5.3 in ./venv/lib/python3.11/site-packages (from plotastic==0.0.1) (1.5.3)\n",
      "Requirement already satisfied: matplotlib in ./venv/lib/python3.11/site-packages (from plotastic==0.0.1) (3.8.0)\n",
      "Requirement already satisfied: seaborn in ./venv/lib/python3.11/site-packages (from plotastic==0.0.1) (0.11.2)\n",
      "Requirement already satisfied: scipy in ./venv/lib/python3.11/site-packages (from plotastic==0.0.1) (1.11.3)\n",
      "Requirement already satisfied: statannotations in ./venv/lib/python3.11/site-packages (from plotastic==0.0.1) (0.6.0)\n",
      "Requirement already satisfied: pingouin in ./venv/lib/python3.11/site-packages (from plotastic==0.0.1) (0.5.3)\n",
      "Requirement already satisfied: joblib in ./venv/lib/python3.11/site-packages (from plotastic==0.0.1) (1.3.2)\n",
      "Requirement already satisfied: pyperclip in ./venv/lib/python3.11/site-packages (from plotastic==0.0.1) (1.8.2)\n",
      "Requirement already satisfied: colour in ./venv/lib/python3.11/site-packages (from plotastic==0.0.1) (0.1.5)\n",
      "Requirement already satisfied: xlsxwriter in ./venv/lib/python3.11/site-packages (from plotastic==0.0.1) (3.1.9)\n",
      "Requirement already satisfied: python-dateutil>=2.8.1 in ./venv/lib/python3.11/site-packages (from pandas==1.5.3->plotastic==0.0.1) (2.8.2)\n",
      "Requirement already satisfied: pytz>=2020.1 in ./venv/lib/python3.11/site-packages (from pandas==1.5.3->plotastic==0.0.1) (2023.3.post1)\n",
      "Requirement already satisfied: contourpy>=1.0.1 in ./venv/lib/python3.11/site-packages (from matplotlib->plotastic==0.0.1) (1.1.1)\n",
      "Requirement already satisfied: cycler>=0.10 in ./venv/lib/python3.11/site-packages (from matplotlib->plotastic==0.0.1) (0.12.1)\n",
      "Requirement already satisfied: fonttools>=4.22.0 in ./venv/lib/python3.11/site-packages (from matplotlib->plotastic==0.0.1) (4.43.1)\n",
      "Requirement already satisfied: kiwisolver>=1.0.1 in ./venv/lib/python3.11/site-packages (from matplotlib->plotastic==0.0.1) (1.4.5)\n",
      "Requirement already satisfied: packaging>=20.0 in ./venv/lib/python3.11/site-packages (from matplotlib->plotastic==0.0.1) (23.2)\n",
      "Requirement already satisfied: pillow>=6.2.0 in ./venv/lib/python3.11/site-packages (from matplotlib->plotastic==0.0.1) (10.1.0)\n",
      "Requirement already satisfied: pyparsing>=2.3.1 in ./venv/lib/python3.11/site-packages (from matplotlib->plotastic==0.0.1) (3.1.1)\n",
      "Requirement already satisfied: statsmodels>=0.13 in ./venv/lib/python3.11/site-packages (from pingouin->plotastic==0.0.1) (0.14.0)\n",
      "Requirement already satisfied: scikit-learn in ./venv/lib/python3.11/site-packages (from pingouin->plotastic==0.0.1) (1.3.2)\n",
      "Requirement already satisfied: pandas-flavor>=0.2.0 in ./venv/lib/python3.11/site-packages (from pingouin->plotastic==0.0.1) (0.6.0)\n",
      "Requirement already satisfied: outdated in ./venv/lib/python3.11/site-packages (from pingouin->plotastic==0.0.1) (0.2.2)\n",
      "Requirement already satisfied: tabulate in ./venv/lib/python3.11/site-packages (from pingouin->plotastic==0.0.1) (0.9.0)\n",
      "Requirement already satisfied: xarray in ./venv/lib/python3.11/site-packages (from pandas-flavor>=0.2.0->pingouin->plotastic==0.0.1) (2023.10.1)\n",
      "Requirement already satisfied: six>=1.5 in ./venv/lib/python3.11/site-packages (from python-dateutil>=2.8.1->pandas==1.5.3->plotastic==0.0.1) (1.16.0)\n",
      "Requirement already satisfied: patsy>=0.5.2 in ./venv/lib/python3.11/site-packages (from statsmodels>=0.13->pingouin->plotastic==0.0.1) (0.5.3)\n",
      "Requirement already satisfied: setuptools>=44 in ./venv/lib/python3.11/site-packages (from outdated->pingouin->plotastic==0.0.1) (68.2.2)\n",
      "Requirement already satisfied: littleutils in ./venv/lib/python3.11/site-packages (from outdated->pingouin->plotastic==0.0.1) (0.2.2)\n",
      "Requirement already satisfied: requests in ./venv/lib/python3.11/site-packages (from outdated->pingouin->plotastic==0.0.1) (2.31.0)\n",
      "Requirement already satisfied: threadpoolctl>=2.0.0 in ./venv/lib/python3.11/site-packages (from scikit-learn->pingouin->plotastic==0.0.1) (3.2.0)\n",
      "Requirement already satisfied: charset-normalizer<4,>=2 in ./venv/lib/python3.11/site-packages (from requests->outdated->pingouin->plotastic==0.0.1) (3.3.1)\n",
      "Requirement already satisfied: idna<4,>=2.5 in ./venv/lib/python3.11/site-packages (from requests->outdated->pingouin->plotastic==0.0.1) (3.4)\n",
      "Requirement already satisfied: urllib3<3,>=1.21.1 in ./venv/lib/python3.11/site-packages (from requests->outdated->pingouin->plotastic==0.0.1) (2.0.7)\n",
      "Requirement already satisfied: certifi>=2017.4.17 in ./venv/lib/python3.11/site-packages (from requests->outdated->pingouin->plotastic==0.0.1) (2023.7.22)\n",
      "Building wheels for collected packages: plotastic\n",
      "  Building editable for plotastic (pyproject.toml) ... \u001b[?25ldone\n",
      "\u001b[?25h  Created wheel for plotastic: filename=plotastic-0.0.1-0.editable-py3-none-any.whl size=2230 sha256=4345c2c6817d8c882d0727daf1fd8f25e6d4651510a65aafedb5766d552f591e\n",
      "  Stored in directory: /private/var/folders/mj/jsjg5lkx0lb3mc9lf4gv74c00000gn/T/pip-ephem-wheel-cache-l98955yp/wheels/6c/06/13/2b768d17ce5d01f007cc1cfd578cf97c302a3805f629874ba5\n",
      "Successfully built plotastic\n",
      "Installing collected packages: plotastic\n",
      "Successfully installed plotastic-0.0.1\n",
      "\n",
      "\u001b[1m[\u001b[0m\u001b[34;49mnotice\u001b[0m\u001b[1;39;49m]\u001b[0m\u001b[39;49m A new release of pip is available: \u001b[0m\u001b[31;49m23.2.1\u001b[0m\u001b[39;49m -> \u001b[0m\u001b[32;49m23.3.1\u001b[0m\n",
      "\u001b[1m[\u001b[0m\u001b[34;49mnotice\u001b[0m\u001b[1;39;49m]\u001b[0m\u001b[39;49m To update, run: \u001b[0m\u001b[32;49mpip install --upgrade pip\u001b[0m\n"
     ]
    }
   ],
   "source": [
    "### Direct to the project directory where setup.py is located\n",
    "# ? This can take a while\n",
    "# ! pip install -e . # ! <-- Uncomment"
   ]
  },
  {
   "cell_type": "code",
   "execution_count": 12,
   "metadata": {},
   "outputs": [
    {
     "ename": "ModuleNotFoundError",
     "evalue": "No module named 'plotastic'",
     "output_type": "error",
     "traceback": [
      "\u001b[0;31m---------------------------------------------------------------------------\u001b[0m",
      "\u001b[0;31mModuleNotFoundError\u001b[0m                       Traceback (most recent call last)",
      "\u001b[1;32m/Users/martinkuric/_REPOS/plotastic/setup_env.ipynb Cell 24\u001b[0m line \u001b[0;36m2\n\u001b[1;32m      <a href='vscode-notebook-cell:/Users/martinkuric/_REPOS/plotastic/setup_env.ipynb#X32sZmlsZQ%3D%3D?line=0'>1</a>\u001b[0m \u001b[39m### test if package is importable\u001b[39;00m\n\u001b[0;32m----> <a href='vscode-notebook-cell:/Users/martinkuric/_REPOS/plotastic/setup_env.ipynb#X32sZmlsZQ%3D%3D?line=1'>2</a>\u001b[0m \u001b[39mimport\u001b[39;00m \u001b[39mplotastic\u001b[39;00m \u001b[39m# ! Need to restart kernel if freshly installed\u001b[39;00m\n",
      "\u001b[0;31mModuleNotFoundError\u001b[0m: No module named 'plotastic'"
     ]
    }
   ],
   "source": [
    "### test if package is importable\n",
    "import plotastic # ! Need to restart kernel if freshly installed"
   ]
  },
  {
   "cell_type": "code",
   "execution_count": null,
   "metadata": {},
   "outputs": [
    {
     "name": "stdout",
     "output_type": "stream",
     "text": [
      "Found existing installation: plotastic 0.0.1\n",
      "Uninstalling plotastic-0.0.1:\n",
      "  Successfully uninstalled plotastic-0.0.1\n"
     ]
    }
   ],
   "source": [
    "### uninstall to reinstall\n",
    "# ! pip uninstall plotastic -y"
   ]
  },
  {
   "cell_type": "markdown",
   "metadata": {},
   "source": [
    "## 4. Install Development Tools"
   ]
  },
  {
   "cell_type": "code",
   "execution_count": 10,
   "metadata": {},
   "outputs": [
    {
     "data": {
      "text/plain": [
       "['pytest']"
      ]
     },
     "execution_count": 10,
     "metadata": {},
     "output_type": "execute_result"
    }
   ],
   "source": [
    "### Check devtools\n",
    "DEVELOPMENT_TOOLS = req.DEVELOPMENT_TOOLS\n",
    "DEVELOPMENT_TOOLS"
   ]
  },
  {
   "cell_type": "code",
   "execution_count": 8,
   "metadata": {},
   "outputs": [
    {
     "name": "stdout",
     "output_type": "stream",
     "text": [
      "Requirement already satisfied: pytest in ./venv/lib/python3.11/site-packages (from -r _devtools.txt (line 1)) (7.4.3)\n",
      "Requirement already satisfied: iniconfig in ./venv/lib/python3.11/site-packages (from pytest->-r _devtools.txt (line 1)) (2.0.0)\n",
      "Requirement already satisfied: packaging in ./venv/lib/python3.11/site-packages (from pytest->-r _devtools.txt (line 1)) (23.2)\n",
      "Requirement already satisfied: pluggy<2.0,>=0.12 in ./venv/lib/python3.11/site-packages (from pytest->-r _devtools.txt (line 1)) (1.3.0)\n"
     ]
    }
   ],
   "source": [
    "req.to_txt(fname=\"_devtools.txt\", requirements=DEVELOPMENT_TOOLS)\n",
    "! pip install -r _devtools.txt\n",
    "os.remove(\"_devtools.txt\") # * cleanup"
   ]
  },
  {
   "cell_type": "markdown",
   "metadata": {},
   "source": [
    "## Old Shell scripts"
   ]
  },
  {
   "cell_type": "code",
   "execution_count": null,
   "metadata": {},
   "outputs": [],
   "source": [
    "# import subprocess\n",
    "\n",
    "# # Set the desired Python version (retrieve from setup.py)\n",
    "# PYTHON_VERSION = \"3.11\"  # Replace with actual Python version from setup.py\n",
    "\n",
    "# # Path to your project folder (modify as needed)\n",
    "# PROJECT_PATH = \"/path/to/your/project\"\n",
    "\n",
    "# # Create a virtual environment with the desired Python version\n",
    "# subprocess.run([\"python\" + PYTHON_VERSION, \"-m\", \"venv\", f\"{PROJECT_PATH}/venv\"])\n",
    "\n",
    "# # Activate the virtual environment\n",
    "# subprocess.run([\"source\", f\"{PROJECT_PATH}/venv/bin/activate\"])\n",
    "\n",
    "# # Install your project's dependencies from the REQUIREMENTS variable in setup.py\n",
    "# # Ensure that setup.py contains the REQUIREMENTS variable in the expected format\n",
    "# # For example, REQUIREMENTS = [\"package1\", \"package2\"]\n",
    "# subprocess.run([\"python\", \"-c\", \"from setup import REQUIREMENTS; import subprocess; subprocess.run(['pip', 'install'] + REQUIREMENTS)\"])\n",
    "\n",
    "# # Deactivate the virtual environment when you're done\n",
    "# subprocess.run([\"deactivate\"])\n"
   ]
  },
  {
   "cell_type": "code",
   "execution_count": null,
   "metadata": {},
   "outputs": [],
   "source": [
    "# #!/bin/bash\n",
    "\n",
    "# # ! Execute from within project folder, where setup.py is located\n",
    "\n",
    "# ### Retrieve python version from ./setup.py and store in variable\n",
    "# PYTHON_VERSION=$(python -c \"import ast; exec(open('./setup.py').read()); print(PYTHON_VERSION)\")\n",
    "\n",
    "# ### Path to your project folder\n",
    "# PROJECT_PATH=\".\"\n",
    "\n",
    "# ### Name of folder to store virtual environment\n",
    "# VENV=\".venv\"\n",
    "\n",
    "# ### Create a virtual environment with the desired Python version\n",
    "# # python3.11 -m venv \"./.venv\"\n",
    "# python$PYTHON_VERSION -m venv $PROJECT_PATH/$VENV\n",
    "\n",
    "# ### Activate the virtual environment\n",
    "# # source \"./.venv/bin/activate\"\n",
    "# source $PROJECT_PATH/$VENV/bin/activate\n",
    "\n",
    "# ### Install your project's dependencies from the REQUIREMENTS variable in setup.py\n",
    "# # ! Ensure that setup.py contains the REQUIREMENTS variable in the expected format\n",
    "# # * For example, REQUIREMENTS = [\"package1\", \"package2\"]\n",
    "# # pip install -r requirements.txt\n",
    "# python -c \"from setup import REQUIREMENTS; import subprocess; subprocess.run(['pip', 'install'] + REQUIREMENTS)\"\n",
    "\n",
    "# ### Make a requirements.txt file for your project\n",
    "# pip freeze > requirements.txt\n",
    "\n",
    "# ### Don't peactivate the virtual environment when you're done\n",
    "# # deactivate"
   ]
  }
 ],
 "metadata": {
  "kernelspec": {
   "display_name": "Python 3",
   "language": "python",
   "name": "python3"
  },
  "language_info": {
   "codemirror_mode": {
    "name": "ipython",
    "version": 3
   },
   "file_extension": ".py",
   "mimetype": "text/x-python",
   "name": "python",
   "nbconvert_exporter": "python",
   "pygments_lexer": "ipython3",
   "version": "3.11.6"
  }
 },
 "nbformat": 4,
 "nbformat_minor": 2
}
