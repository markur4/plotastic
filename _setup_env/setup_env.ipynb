{
 "cells": [
  {
   "cell_type": "code",
   "execution_count": 1,
   "metadata": {},
   "outputs": [],
   "source": [
    "import subprocess\n",
    "import venv\n",
    "import os\n",
    "import env_utils as eu"
   ]
  },
  {
   "cell_type": "markdown",
   "metadata": {},
   "source": [
    "\n",
    "# Setup Environment for this Project\n",
    "### General Strategy: \n",
    "1. **How to handle virtuel environemts in the first place**\n",
    "   1. Do we need pyenv..? Let's try without..\n",
    "   2. Just install python versions with `brew`\n",
    "   3. Then setup a a virtual environment using `venv`` for each project\n",
    "2. **Setup a virtual environment using `venv`**\n",
    "    1. Collect and document requirements in `requirements-dev.txt` as you develop\n",
    "    2. Run this notebook to setup the environment\n",
    "        - Packages defined in `requirements-dev.txt` will be installed\n",
    "        - requirements.txt file will be exported into project folder for others to use\n",
    "        - This project will be added as editable mode to make it testable\n",
    "3. **Install this package with setup.py**\n",
    "    - requirements.txt is parsed\n",
    "    - package will be installed\n"
   ]
  },
  {
   "cell_type": "markdown",
   "metadata": {},
   "source": [
    "## 1. Base Python interpreter\n",
    "### Just use a global one from `brew`!"
   ]
  },
  {
   "cell_type": "code",
   "execution_count": 2,
   "metadata": {},
   "outputs": [],
   "source": [
    "# Install python\n",
    "# ! brew install python@3.11 # ! <-- Uncomment"
   ]
  },
  {
   "cell_type": "markdown",
   "metadata": {},
   "source": [
    "#### VSCode will ask us to select a python interpreter: For now, use the global one we installed"
   ]
  },
  {
   "cell_type": "markdown",
   "metadata": {},
   "source": [
    "#### Add base python interpreter to `PATH`? \n",
    "- No need to add to `PATH`, since we will use `venv` to create a virtual environment for each project\n",
    "- Having out terminal no connection with any python interpreter will make sure that we are not using the wrong interpreter by accident"
   ]
  },
  {
   "cell_type": "code",
   "execution_count": 3,
   "metadata": {},
   "outputs": [],
   "source": [
    "# Do NOT add the python interpreter to your path!\n",
    "## export PATH=\"/usr/local/opt/python/libexec/bin:$PATH\" # !!! Don't do this"
   ]
  },
  {
   "cell_type": "code",
   "execution_count": 4,
   "metadata": {},
   "outputs": [
    {
     "name": "stdout",
     "output_type": "stream",
     "text": [
      "/Users/martinkuric/_REPOS/plotastic/_venv/bin\n",
      "/opt/homebrew/bin\n",
      "/opt/homebrew/sbin\n",
      "/usr/local/bin\n",
      "/System/Cryptexes/App/usr/bin\n",
      "/usr/bin\n",
      "/bin\n",
      "/usr/sbin\n",
      "/sbin\n",
      "/var/run/com.apple.security.cryptexd/codex.system/bootstrap/usr/local/bin\n",
      "/var/run/com.apple.security.cryptexd/codex.system/bootstrap/usr/bin\n",
      "/var/run/com.apple.security.cryptexd/codex.system/bootstrap/usr/appleinternal/bin\n",
      "\n"
     ]
    }
   ],
   "source": [
    "# Check PATH\n",
    "PATH = subprocess.check_output([\"echo $PATH\"], shell=True)\n",
    "for path in PATH.decode(\"utf-8\").split(\":\"):\n",
    "    print(path)"
   ]
  },
  {
   "cell_type": "markdown",
   "metadata": {},
   "source": [
    "## 2. Setup a Virtual Environment using `venv`"
   ]
  },
  {
   "cell_type": "markdown",
   "metadata": {},
   "source": [
    "### Create environment"
   ]
  },
  {
   "cell_type": "code",
   "execution_count": 5,
   "metadata": {},
   "outputs": [
    {
     "data": {
      "text/plain": [
       "'../_venv'"
      ]
     },
     "execution_count": 5,
     "metadata": {},
     "output_type": "execute_result"
    }
   ],
   "source": [
    "### Describe the folder stucture\n",
    "PROJECT_DIR = \"..\" # We aren't in the project dir\n",
    "ENV_NAME = \"_venv\" # Supposed to go into project folder along with setup.py\n",
    "ENV_PATH = os.path.join(PROJECT_DIR, ENV_NAME)\n",
    "ENV_PATH\n"
   ]
  },
  {
   "cell_type": "code",
   "execution_count": 6,
   "metadata": {},
   "outputs": [],
   "source": [
    "### Create Virtual Environment\n",
    "# venv.create(env_dir=ENV_PATH, clear=True, with_pip=True) # ! <-- Uncomment"
   ]
  },
  {
   "cell_type": "markdown",
   "metadata": {},
   "source": [
    "### Activate Environment\n",
    "#### In Terminal:\n",
    "- Activate the environment with `source venv/bin/activate` (use `ENV_NAME` instead of `venv`)\n",
    "  - Check if the environment is active with `which python`\n",
    "  - Should point to the `venv/bin/python` file\n",
    "- Check if the environment is active with `which python`\n",
    "  - Should point to the `venv/bin/python` file\n",
    "- Deactivate the environment with `deactivate`\n",
    "\n",
    "\n",
    "#### In VSCode:\n",
    "- Select the environment in VSCode with `Python: Select Interpreter` command\n",
    "  - Navigate to the `venv/bin/python` file\n",
    "- VScode will ask you to install the `IPython` extension, do so"
   ]
  },
  {
   "cell_type": "code",
   "execution_count": 7,
   "metadata": {},
   "outputs": [],
   "source": [
    "### Check if the virtual environment can be activated\n",
    "# ! This is a notebook, manually select the interpreter for the Jupyter Kernel\n",
    "! source ../_venv/bin/activate  "
   ]
  },
  {
   "cell_type": "code",
   "execution_count": 8,
   "metadata": {},
   "outputs": [
    {
     "name": "stdout",
     "output_type": "stream",
     "text": [
      "/Users/martinkuric/_REPOS/plotastic/_venv/bin/python\n"
     ]
    }
   ],
   "source": [
    "### Check if the virtual environment is active\n",
    "! which python # ! Should be within the project directory"
   ]
  },
  {
   "cell_type": "markdown",
   "metadata": {},
   "source": [
    "## 3 Install Packages\n",
    "1. **Prepare requirements**\n",
    "   1. The *main place* where requirements are gathered and documented is `requirements-dev.txt`\n",
    "   2. Pip can't handle comments in requirements files, so we need to remove them by making a temporary requirements file without comments using `eu.write_requirements()`\n",
    "2. **Install requirements**\n",
    "   - Install requirements with `pip install -r requirements.txt`\n",
    "3. **Export requirements** \n",
    "   - `pip freeze > requirements.txt`\n",
    "   - This may be overwritten by anyone\n",
    "4. **pip install this Project in editable mode**\n",
    "   - `pip install -e .`\n",
    "   - Makes it testable"
   ]
  },
  {
   "cell_type": "code",
   "execution_count": 9,
   "metadata": {},
   "outputs": [
    {
     "data": {
      "text/plain": [
       "['numpy',\n",
       " 'pandas==1.5.3',\n",
       " 'matplotlib',\n",
       " 'seaborn',\n",
       " 'scipy',\n",
       " 'statannotations',\n",
       " 'pingouin',\n",
       " 'joblib',\n",
       " 'pyperclip',\n",
       " 'colour',\n",
       " 'xlsxwriter']"
      ]
     },
     "execution_count": 9,
     "metadata": {},
     "output_type": "execute_result"
    }
   ],
   "source": [
    "### Check Requirements\n",
    "REQUIREMENTS:list = eu.parse_requirements(fname=\"requirements-dev.txt\")\n",
    "REQUIREMENTS"
   ]
  },
  {
   "cell_type": "code",
   "execution_count": 10,
   "metadata": {},
   "outputs": [],
   "source": [
    "### Pip can't handle comments, make a new temporary file\n",
    "eu.write_requirements(fname=\"_reqs.txt\", requirements=REQUIREMENTS)"
   ]
  },
  {
   "cell_type": "code",
   "execution_count": 11,
   "metadata": {},
   "outputs": [
    {
     "name": "stdout",
     "output_type": "stream",
     "text": [
      "Requirement already satisfied: numpy in /Users/martinkuric/_REPOS/plotastic/_venv/lib/python3.11/site-packages (from -r _reqs.txt (line 1)) (1.26.1)\n",
      "Requirement already satisfied: pandas==1.5.3 in /Users/martinkuric/_REPOS/plotastic/_venv/lib/python3.11/site-packages (from -r _reqs.txt (line 2)) (1.5.3)\n",
      "Requirement already satisfied: matplotlib in /Users/martinkuric/_REPOS/plotastic/_venv/lib/python3.11/site-packages (from -r _reqs.txt (line 3)) (3.8.0)\n",
      "Requirement already satisfied: seaborn in /Users/martinkuric/_REPOS/plotastic/_venv/lib/python3.11/site-packages (from -r _reqs.txt (line 4)) (0.11.2)\n",
      "Requirement already satisfied: scipy in /Users/martinkuric/_REPOS/plotastic/_venv/lib/python3.11/site-packages (from -r _reqs.txt (line 5)) (1.11.3)\n",
      "Requirement already satisfied: statannotations in /Users/martinkuric/_REPOS/plotastic/_venv/lib/python3.11/site-packages (from -r _reqs.txt (line 6)) (0.6.0)\n",
      "Requirement already satisfied: pingouin in /Users/martinkuric/_REPOS/plotastic/_venv/lib/python3.11/site-packages (from -r _reqs.txt (line 7)) (0.5.3)\n",
      "Requirement already satisfied: joblib in /Users/martinkuric/_REPOS/plotastic/_venv/lib/python3.11/site-packages (from -r _reqs.txt (line 8)) (1.3.2)\n",
      "Requirement already satisfied: pyperclip in /Users/martinkuric/_REPOS/plotastic/_venv/lib/python3.11/site-packages (from -r _reqs.txt (line 9)) (1.8.2)\n",
      "Requirement already satisfied: colour in /Users/martinkuric/_REPOS/plotastic/_venv/lib/python3.11/site-packages (from -r _reqs.txt (line 10)) (0.1.5)\n",
      "Requirement already satisfied: xlsxwriter in /Users/martinkuric/_REPOS/plotastic/_venv/lib/python3.11/site-packages (from -r _reqs.txt (line 11)) (3.1.9)\n",
      "Requirement already satisfied: python-dateutil>=2.8.1 in /Users/martinkuric/_REPOS/plotastic/_venv/lib/python3.11/site-packages (from pandas==1.5.3->-r _reqs.txt (line 2)) (2.8.2)\n",
      "Requirement already satisfied: pytz>=2020.1 in /Users/martinkuric/_REPOS/plotastic/_venv/lib/python3.11/site-packages (from pandas==1.5.3->-r _reqs.txt (line 2)) (2023.3.post1)\n",
      "Requirement already satisfied: contourpy>=1.0.1 in /Users/martinkuric/_REPOS/plotastic/_venv/lib/python3.11/site-packages (from matplotlib->-r _reqs.txt (line 3)) (1.1.1)\n",
      "Requirement already satisfied: cycler>=0.10 in /Users/martinkuric/_REPOS/plotastic/_venv/lib/python3.11/site-packages (from matplotlib->-r _reqs.txt (line 3)) (0.12.1)\n",
      "Requirement already satisfied: fonttools>=4.22.0 in /Users/martinkuric/_REPOS/plotastic/_venv/lib/python3.11/site-packages (from matplotlib->-r _reqs.txt (line 3)) (4.43.1)\n",
      "Requirement already satisfied: kiwisolver>=1.0.1 in /Users/martinkuric/_REPOS/plotastic/_venv/lib/python3.11/site-packages (from matplotlib->-r _reqs.txt (line 3)) (1.4.5)\n",
      "Requirement already satisfied: packaging>=20.0 in /Users/martinkuric/_REPOS/plotastic/_venv/lib/python3.11/site-packages (from matplotlib->-r _reqs.txt (line 3)) (23.2)\n",
      "Requirement already satisfied: pillow>=6.2.0 in /Users/martinkuric/_REPOS/plotastic/_venv/lib/python3.11/site-packages (from matplotlib->-r _reqs.txt (line 3)) (10.1.0)\n",
      "Requirement already satisfied: pyparsing>=2.3.1 in /Users/martinkuric/_REPOS/plotastic/_venv/lib/python3.11/site-packages (from matplotlib->-r _reqs.txt (line 3)) (3.1.1)\n",
      "Requirement already satisfied: statsmodels>=0.13 in /Users/martinkuric/_REPOS/plotastic/_venv/lib/python3.11/site-packages (from pingouin->-r _reqs.txt (line 7)) (0.14.0)\n",
      "Requirement already satisfied: scikit-learn in /Users/martinkuric/_REPOS/plotastic/_venv/lib/python3.11/site-packages (from pingouin->-r _reqs.txt (line 7)) (1.3.2)\n",
      "Requirement already satisfied: pandas-flavor>=0.2.0 in /Users/martinkuric/_REPOS/plotastic/_venv/lib/python3.11/site-packages (from pingouin->-r _reqs.txt (line 7)) (0.6.0)\n",
      "Requirement already satisfied: outdated in /Users/martinkuric/_REPOS/plotastic/_venv/lib/python3.11/site-packages (from pingouin->-r _reqs.txt (line 7)) (0.2.2)\n",
      "Requirement already satisfied: tabulate in /Users/martinkuric/_REPOS/plotastic/_venv/lib/python3.11/site-packages (from pingouin->-r _reqs.txt (line 7)) (0.9.0)\n",
      "Requirement already satisfied: xarray in /Users/martinkuric/_REPOS/plotastic/_venv/lib/python3.11/site-packages (from pandas-flavor>=0.2.0->pingouin->-r _reqs.txt (line 7)) (2023.10.1)\n",
      "Requirement already satisfied: six>=1.5 in /Users/martinkuric/_REPOS/plotastic/_venv/lib/python3.11/site-packages (from python-dateutil>=2.8.1->pandas==1.5.3->-r _reqs.txt (line 2)) (1.16.0)\n",
      "Requirement already satisfied: patsy>=0.5.2 in /Users/martinkuric/_REPOS/plotastic/_venv/lib/python3.11/site-packages (from statsmodels>=0.13->pingouin->-r _reqs.txt (line 7)) (0.5.3)\n",
      "Requirement already satisfied: setuptools>=44 in /Users/martinkuric/_REPOS/plotastic/_venv/lib/python3.11/site-packages (from outdated->pingouin->-r _reqs.txt (line 7)) (68.2.2)\n",
      "Requirement already satisfied: littleutils in /Users/martinkuric/_REPOS/plotastic/_venv/lib/python3.11/site-packages (from outdated->pingouin->-r _reqs.txt (line 7)) (0.2.2)\n",
      "Requirement already satisfied: requests in /Users/martinkuric/_REPOS/plotastic/_venv/lib/python3.11/site-packages (from outdated->pingouin->-r _reqs.txt (line 7)) (2.31.0)\n",
      "Requirement already satisfied: threadpoolctl>=2.0.0 in /Users/martinkuric/_REPOS/plotastic/_venv/lib/python3.11/site-packages (from scikit-learn->pingouin->-r _reqs.txt (line 7)) (3.2.0)\n",
      "Requirement already satisfied: charset-normalizer<4,>=2 in /Users/martinkuric/_REPOS/plotastic/_venv/lib/python3.11/site-packages (from requests->outdated->pingouin->-r _reqs.txt (line 7)) (3.3.1)\n",
      "Requirement already satisfied: idna<4,>=2.5 in /Users/martinkuric/_REPOS/plotastic/_venv/lib/python3.11/site-packages (from requests->outdated->pingouin->-r _reqs.txt (line 7)) (3.4)\n",
      "Requirement already satisfied: urllib3<3,>=1.21.1 in /Users/martinkuric/_REPOS/plotastic/_venv/lib/python3.11/site-packages (from requests->outdated->pingouin->-r _reqs.txt (line 7)) (2.0.7)\n",
      "Requirement already satisfied: certifi>=2017.4.17 in /Users/martinkuric/_REPOS/plotastic/_venv/lib/python3.11/site-packages (from requests->outdated->pingouin->-r _reqs.txt (line 7)) (2023.7.22)\n",
      "\n",
      "\u001b[1m[\u001b[0m\u001b[34;49mnotice\u001b[0m\u001b[1;39;49m]\u001b[0m\u001b[39;49m A new release of pip is available: \u001b[0m\u001b[31;49m23.2.1\u001b[0m\u001b[39;49m -> \u001b[0m\u001b[32;49m23.3.1\u001b[0m\n",
      "\u001b[1m[\u001b[0m\u001b[34;49mnotice\u001b[0m\u001b[1;39;49m]\u001b[0m\u001b[39;49m To update, run: \u001b[0m\u001b[32;49mpip install --upgrade pip\u001b[0m\n"
     ]
    }
   ],
   "source": [
    "### Install requirements from a file without comments\n",
    "! pip install -r _reqs.txt"
   ]
  },
  {
   "cell_type": "code",
   "execution_count": 12,
   "metadata": {},
   "outputs": [],
   "source": [
    "### Export requirements to be used by the publix\n",
    "! pip freeze > ../requirements.txt"
   ]
  },
  {
   "cell_type": "markdown",
   "metadata": {},
   "source": [
    "### `pip install -e .`"
   ]
  },
  {
   "cell_type": "code",
   "execution_count": 13,
   "metadata": {},
   "outputs": [
    {
     "name": "stdout",
     "output_type": "stream",
     "text": [
      "Obtaining file:///Users/martinkuric/_REPOS/plotastic\n",
      "  Installing build dependencies ... \u001b[?25ldone\n",
      "\u001b[?25h  Checking if build backend supports build_editable ... \u001b[?25ldone\n",
      "\u001b[?25h  Getting requirements to build editable ... \u001b[?25ldone\n",
      "\u001b[?25h  Preparing editable metadata (pyproject.toml) ... \u001b[?25ldone\n",
      "\u001b[?25hRequirement already satisfied: numpy in /Users/martinkuric/_REPOS/plotastic/_venv/lib/python3.11/site-packages (from plotastic==0.0.1) (1.26.1)\n",
      "Requirement already satisfied: pandas==1.5.3 in /Users/martinkuric/_REPOS/plotastic/_venv/lib/python3.11/site-packages (from plotastic==0.0.1) (1.5.3)\n",
      "Requirement already satisfied: matplotlib in /Users/martinkuric/_REPOS/plotastic/_venv/lib/python3.11/site-packages (from plotastic==0.0.1) (3.8.0)\n",
      "Requirement already satisfied: seaborn in /Users/martinkuric/_REPOS/plotastic/_venv/lib/python3.11/site-packages (from plotastic==0.0.1) (0.11.2)\n",
      "Requirement already satisfied: scipy in /Users/martinkuric/_REPOS/plotastic/_venv/lib/python3.11/site-packages (from plotastic==0.0.1) (1.11.3)\n",
      "Requirement already satisfied: statannotations in /Users/martinkuric/_REPOS/plotastic/_venv/lib/python3.11/site-packages (from plotastic==0.0.1) (0.6.0)\n",
      "Requirement already satisfied: pingouin in /Users/martinkuric/_REPOS/plotastic/_venv/lib/python3.11/site-packages (from plotastic==0.0.1) (0.5.3)\n",
      "Requirement already satisfied: joblib in /Users/martinkuric/_REPOS/plotastic/_venv/lib/python3.11/site-packages (from plotastic==0.0.1) (1.3.2)\n",
      "Requirement already satisfied: pyperclip in /Users/martinkuric/_REPOS/plotastic/_venv/lib/python3.11/site-packages (from plotastic==0.0.1) (1.8.2)\n",
      "Requirement already satisfied: colour in /Users/martinkuric/_REPOS/plotastic/_venv/lib/python3.11/site-packages (from plotastic==0.0.1) (0.1.5)\n",
      "Requirement already satisfied: xlsxwriter in /Users/martinkuric/_REPOS/plotastic/_venv/lib/python3.11/site-packages (from plotastic==0.0.1) (3.1.9)\n",
      "Requirement already satisfied: python-dateutil>=2.8.1 in /Users/martinkuric/_REPOS/plotastic/_venv/lib/python3.11/site-packages (from pandas==1.5.3->plotastic==0.0.1) (2.8.2)\n",
      "Requirement already satisfied: pytz>=2020.1 in /Users/martinkuric/_REPOS/plotastic/_venv/lib/python3.11/site-packages (from pandas==1.5.3->plotastic==0.0.1) (2023.3.post1)\n",
      "Requirement already satisfied: contourpy>=1.0.1 in /Users/martinkuric/_REPOS/plotastic/_venv/lib/python3.11/site-packages (from matplotlib->plotastic==0.0.1) (1.1.1)\n",
      "Requirement already satisfied: cycler>=0.10 in /Users/martinkuric/_REPOS/plotastic/_venv/lib/python3.11/site-packages (from matplotlib->plotastic==0.0.1) (0.12.1)\n",
      "Requirement already satisfied: fonttools>=4.22.0 in /Users/martinkuric/_REPOS/plotastic/_venv/lib/python3.11/site-packages (from matplotlib->plotastic==0.0.1) (4.43.1)\n",
      "Requirement already satisfied: kiwisolver>=1.0.1 in /Users/martinkuric/_REPOS/plotastic/_venv/lib/python3.11/site-packages (from matplotlib->plotastic==0.0.1) (1.4.5)\n",
      "Requirement already satisfied: packaging>=20.0 in /Users/martinkuric/_REPOS/plotastic/_venv/lib/python3.11/site-packages (from matplotlib->plotastic==0.0.1) (23.2)\n",
      "Requirement already satisfied: pillow>=6.2.0 in /Users/martinkuric/_REPOS/plotastic/_venv/lib/python3.11/site-packages (from matplotlib->plotastic==0.0.1) (10.1.0)\n",
      "Requirement already satisfied: pyparsing>=2.3.1 in /Users/martinkuric/_REPOS/plotastic/_venv/lib/python3.11/site-packages (from matplotlib->plotastic==0.0.1) (3.1.1)\n",
      "Requirement already satisfied: statsmodels>=0.13 in /Users/martinkuric/_REPOS/plotastic/_venv/lib/python3.11/site-packages (from pingouin->plotastic==0.0.1) (0.14.0)\n",
      "Requirement already satisfied: scikit-learn in /Users/martinkuric/_REPOS/plotastic/_venv/lib/python3.11/site-packages (from pingouin->plotastic==0.0.1) (1.3.2)\n",
      "Requirement already satisfied: pandas-flavor>=0.2.0 in /Users/martinkuric/_REPOS/plotastic/_venv/lib/python3.11/site-packages (from pingouin->plotastic==0.0.1) (0.6.0)\n",
      "Requirement already satisfied: outdated in /Users/martinkuric/_REPOS/plotastic/_venv/lib/python3.11/site-packages (from pingouin->plotastic==0.0.1) (0.2.2)\n",
      "Requirement already satisfied: tabulate in /Users/martinkuric/_REPOS/plotastic/_venv/lib/python3.11/site-packages (from pingouin->plotastic==0.0.1) (0.9.0)\n",
      "Requirement already satisfied: xarray in /Users/martinkuric/_REPOS/plotastic/_venv/lib/python3.11/site-packages (from pandas-flavor>=0.2.0->pingouin->plotastic==0.0.1) (2023.10.1)\n",
      "Requirement already satisfied: six>=1.5 in /Users/martinkuric/_REPOS/plotastic/_venv/lib/python3.11/site-packages (from python-dateutil>=2.8.1->pandas==1.5.3->plotastic==0.0.1) (1.16.0)\n",
      "Requirement already satisfied: patsy>=0.5.2 in /Users/martinkuric/_REPOS/plotastic/_venv/lib/python3.11/site-packages (from statsmodels>=0.13->pingouin->plotastic==0.0.1) (0.5.3)\n",
      "Requirement already satisfied: setuptools>=44 in /Users/martinkuric/_REPOS/plotastic/_venv/lib/python3.11/site-packages (from outdated->pingouin->plotastic==0.0.1) (68.2.2)\n",
      "Requirement already satisfied: littleutils in /Users/martinkuric/_REPOS/plotastic/_venv/lib/python3.11/site-packages (from outdated->pingouin->plotastic==0.0.1) (0.2.2)\n",
      "Requirement already satisfied: requests in /Users/martinkuric/_REPOS/plotastic/_venv/lib/python3.11/site-packages (from outdated->pingouin->plotastic==0.0.1) (2.31.0)\n",
      "Requirement already satisfied: threadpoolctl>=2.0.0 in /Users/martinkuric/_REPOS/plotastic/_venv/lib/python3.11/site-packages (from scikit-learn->pingouin->plotastic==0.0.1) (3.2.0)\n",
      "Requirement already satisfied: charset-normalizer<4,>=2 in /Users/martinkuric/_REPOS/plotastic/_venv/lib/python3.11/site-packages (from requests->outdated->pingouin->plotastic==0.0.1) (3.3.1)\n",
      "Requirement already satisfied: idna<4,>=2.5 in /Users/martinkuric/_REPOS/plotastic/_venv/lib/python3.11/site-packages (from requests->outdated->pingouin->plotastic==0.0.1) (3.4)\n",
      "Requirement already satisfied: urllib3<3,>=1.21.1 in /Users/martinkuric/_REPOS/plotastic/_venv/lib/python3.11/site-packages (from requests->outdated->pingouin->plotastic==0.0.1) (2.0.7)\n",
      "Requirement already satisfied: certifi>=2017.4.17 in /Users/martinkuric/_REPOS/plotastic/_venv/lib/python3.11/site-packages (from requests->outdated->pingouin->plotastic==0.0.1) (2023.7.22)\n",
      "Building wheels for collected packages: plotastic\n",
      "  Building editable for plotastic (pyproject.toml) ... \u001b[?25ldone\n",
      "\u001b[?25h  Created wheel for plotastic: filename=plotastic-0.0.1-0.editable-py3-none-any.whl size=2230 sha256=56af90f1ce467b9829351e0cdf84ae8019e08e6b26208e425d3fa1d064bff283\n",
      "  Stored in directory: /private/var/folders/mj/jsjg5lkx0lb3mc9lf4gv74c00000gn/T/pip-ephem-wheel-cache-z1npy997/wheels/6c/06/13/2b768d17ce5d01f007cc1cfd578cf97c302a3805f629874ba5\n",
      "Successfully built plotastic\n",
      "Installing collected packages: plotastic\n",
      "  Attempting uninstall: plotastic\n",
      "    Found existing installation: plotastic 0.0.1\n",
      "    Uninstalling plotastic-0.0.1:\n",
      "      Successfully uninstalled plotastic-0.0.1\n",
      "Successfully installed plotastic-0.0.1\n",
      "\n",
      "\u001b[1m[\u001b[0m\u001b[34;49mnotice\u001b[0m\u001b[1;39;49m]\u001b[0m\u001b[39;49m A new release of pip is available: \u001b[0m\u001b[31;49m23.2.1\u001b[0m\u001b[39;49m -> \u001b[0m\u001b[32;49m23.3.1\u001b[0m\n",
      "\u001b[1m[\u001b[0m\u001b[34;49mnotice\u001b[0m\u001b[1;39;49m]\u001b[0m\u001b[39;49m To update, run: \u001b[0m\u001b[32;49mpip install --upgrade pip\u001b[0m\n"
     ]
    }
   ],
   "source": [
    "### Direct to the project directory where setup.py is located\n",
    "# ? This can take a while\n",
    "! pip install -e ../"
   ]
  },
  {
   "cell_type": "code",
   "execution_count": 14,
   "metadata": {},
   "outputs": [
    {
     "ename": "ModuleNotFoundError",
     "evalue": "No module named 'markurutils'",
     "output_type": "error",
     "traceback": [
      "\u001b[0;31m---------------------------------------------------------------------------\u001b[0m",
      "\u001b[0;31mModuleNotFoundError\u001b[0m                       Traceback (most recent call last)",
      "\u001b[1;32m/Users/martinkuric/_REPOS/plotastic/_setup_env/setup_env.ipynb Cell 23\u001b[0m line \u001b[0;36m2\n\u001b[1;32m      <a href='vscode-notebook-cell:/Users/martinkuric/_REPOS/plotastic/_setup_env/setup_env.ipynb#X41sZmlsZQ%3D%3D?line=0'>1</a>\u001b[0m \u001b[39m### test if package is importable\u001b[39;00m\n\u001b[0;32m----> <a href='vscode-notebook-cell:/Users/martinkuric/_REPOS/plotastic/_setup_env/setup_env.ipynb#X41sZmlsZQ%3D%3D?line=1'>2</a>\u001b[0m \u001b[39mimport\u001b[39;00m \u001b[39mplotastic\u001b[39;00m \u001b[39m#! won't work, need to restart kernel\u001b[39;00m\n",
      "File \u001b[0;32m~/_REPOS/plotastic/src/plotastic/__init__.py:60\u001b[0m\n\u001b[1;32m     15\u001b[0m __author__ \u001b[39m=\u001b[39m \u001b[39m\"\u001b[39m\u001b[39mmarkur4\u001b[39m\u001b[39m\"\u001b[39m\n\u001b[1;32m     17\u001b[0m \u001b[39m# == Automated imports =================================================================\u001b[39;00m\n\u001b[1;32m     18\u001b[0m \u001b[39m# https://stackoverflow.com/questions/1057431/how-to-load-all-modules-in-a-folder\u001b[39;00m\n\u001b[1;32m     19\u001b[0m \u001b[39m### Get subdirectories that store all .py Files. Exclude hidden folders\u001b[39;00m\n\u001b[0;32m   (...)\u001b[0m\n\u001b[1;32m     57\u001b[0m \u001b[39m# from .dimensions.dimsandlevels import DimsAndLevels\u001b[39;00m\n\u001b[1;32m     58\u001b[0m \u001b[39m# from .dimensions.dataframetool import DataFrameTool\u001b[39;00m\n\u001b[0;32m---> 60\u001b[0m \u001b[39mfrom\u001b[39;00m \u001b[39m.\u001b[39;00m\u001b[39mplotting\u001b[39;00m\u001b[39m.\u001b[39;00m\u001b[39mrc\u001b[39;00m \u001b[39mimport\u001b[39;00m set_style, set_palette\n\u001b[1;32m     62\u001b[0m \u001b[39m# from .plotting.plottool import PlotTool\u001b[39;00m\n\u001b[1;32m     63\u001b[0m \u001b[39m# from .plotting.plotedits import PlotEdits\u001b[39;00m\n\u001b[1;32m     64\u001b[0m \u001b[39m# from .plotting.multiplot import MultiPlot\u001b[39;00m\n\u001b[0;32m   (...)\u001b[0m\n\u001b[1;32m     70\u001b[0m \u001b[39m# from .stat.posthoc import PostHoc\u001b[39;00m\n\u001b[1;32m     71\u001b[0m \u001b[39m# from .stat.omnibus import Omnibus\u001b[39;00m\n\u001b[1;32m     73\u001b[0m \u001b[39mfrom\u001b[39;00m \u001b[39m.\u001b[39;00m\u001b[39mdataanalysis\u001b[39;00m\u001b[39m.\u001b[39;00m\u001b[39mdataanalysis\u001b[39;00m \u001b[39mimport\u001b[39;00m DataAnalysis\n",
      "File \u001b[0;32m~/_REPOS/plotastic/src/plotastic/plotting/rc.py:7\u001b[0m\n\u001b[1;32m      4\u001b[0m \u001b[39mimport\u001b[39;00m \u001b[39mmatplotlib\u001b[39;00m \u001b[39mas\u001b[39;00m \u001b[39mmpl\u001b[39;00m\n\u001b[1;32m      5\u001b[0m \u001b[39mimport\u001b[39;00m \u001b[39mseaborn\u001b[39;00m \u001b[39mas\u001b[39;00m \u001b[39msns\u001b[39;00m\n\u001b[0;32m----> 7\u001b[0m \u001b[39mimport\u001b[39;00m \u001b[39mmarkurutils\u001b[39;00m \u001b[39mas\u001b[39;00m \u001b[39mut\u001b[39;00m\n\u001b[1;32m     10\u001b[0m \u001b[39m# %% .... Apply settings\u001b[39;00m\n\u001b[1;32m     11\u001b[0m \u001b[39mdef\u001b[39;00m \u001b[39mset_style\u001b[39m(settings: \u001b[39mdict\u001b[39m \u001b[39m|\u001b[39m \u001b[39mstr\u001b[39m):\n",
      "\u001b[0;31mModuleNotFoundError\u001b[0m: No module named 'markurutils'"
     ]
    }
   ],
   "source": [
    "### test if package is importable\n",
    "import plotastic # ! Need to restart kernel if freshly installed"
   ]
  },
  {
   "cell_type": "markdown",
   "metadata": {},
   "source": [
    "## Old Shell scripts"
   ]
  },
  {
   "cell_type": "code",
   "execution_count": null,
   "metadata": {},
   "outputs": [],
   "source": [
    "# import subprocess\n",
    "\n",
    "# # Set the desired Python version (retrieve from setup.py)\n",
    "# PYTHON_VERSION = \"3.11\"  # Replace with actual Python version from setup.py\n",
    "\n",
    "# # Path to your project folder (modify as needed)\n",
    "# PROJECT_PATH = \"/path/to/your/project\"\n",
    "\n",
    "# # Create a virtual environment with the desired Python version\n",
    "# subprocess.run([\"python\" + PYTHON_VERSION, \"-m\", \"venv\", f\"{PROJECT_PATH}/venv\"])\n",
    "\n",
    "# # Activate the virtual environment\n",
    "# subprocess.run([\"source\", f\"{PROJECT_PATH}/venv/bin/activate\"])\n",
    "\n",
    "# # Install your project's dependencies from the REQUIREMENTS variable in setup.py\n",
    "# # Ensure that setup.py contains the REQUIREMENTS variable in the expected format\n",
    "# # For example, REQUIREMENTS = [\"package1\", \"package2\"]\n",
    "# subprocess.run([\"python\", \"-c\", \"from setup import REQUIREMENTS; import subprocess; subprocess.run(['pip', 'install'] + REQUIREMENTS)\"])\n",
    "\n",
    "# # Deactivate the virtual environment when you're done\n",
    "# subprocess.run([\"deactivate\"])\n"
   ]
  },
  {
   "cell_type": "code",
   "execution_count": null,
   "metadata": {},
   "outputs": [],
   "source": [
    "# #!/bin/bash\n",
    "\n",
    "# # ! Execute from within project folder, where setup.py is located\n",
    "\n",
    "# ### Retrieve python version from ./setup.py and store in variable\n",
    "# PYTHON_VERSION=$(python -c \"import ast; exec(open('./setup.py').read()); print(PYTHON_VERSION)\")\n",
    "\n",
    "# ### Path to your project folder\n",
    "# PROJECT_PATH=\".\"\n",
    "\n",
    "# ### Name of folder to store virtual environment\n",
    "# VENV=\".venv\"\n",
    "\n",
    "# ### Create a virtual environment with the desired Python version\n",
    "# # python3.11 -m venv \"./.venv\"\n",
    "# python$PYTHON_VERSION -m venv $PROJECT_PATH/$VENV\n",
    "\n",
    "# ### Activate the virtual environment\n",
    "# # source \"./.venv/bin/activate\"\n",
    "# source $PROJECT_PATH/$VENV/bin/activate\n",
    "\n",
    "# ### Install your project's dependencies from the REQUIREMENTS variable in setup.py\n",
    "# # ! Ensure that setup.py contains the REQUIREMENTS variable in the expected format\n",
    "# # * For example, REQUIREMENTS = [\"package1\", \"package2\"]\n",
    "# # pip install -r requirements.txt\n",
    "# python -c \"from setup import REQUIREMENTS; import subprocess; subprocess.run(['pip', 'install'] + REQUIREMENTS)\"\n",
    "\n",
    "# ### Make a requirements.txt file for your project\n",
    "# pip freeze > requirements.txt\n",
    "\n",
    "# ### Don't peactivate the virtual environment when you're done\n",
    "# # deactivate"
   ]
  }
 ],
 "metadata": {
  "kernelspec": {
   "display_name": "Python 3",
   "language": "python",
   "name": "python3"
  },
  "language_info": {
   "codemirror_mode": {
    "name": "ipython",
    "version": 3
   },
   "file_extension": ".py",
   "mimetype": "text/x-python",
   "name": "python",
   "nbconvert_exporter": "python",
   "pygments_lexer": "ipython3",
   "version": "3.11.6"
  }
 },
 "nbformat": 4,
 "nbformat_minor": 2
}
