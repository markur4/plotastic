{
 "cells": [
  {
   "cell_type": "code",
   "execution_count": 1,
   "metadata": {},
   "outputs": [],
   "source": [
    "import plotastic as plst"
   ]
  },
  {
   "cell_type": "markdown",
   "metadata": {},
   "source": [
    "### Import plotastic and example Data"
   ]
  },
  {
   "cell_type": "code",
   "execution_count": 2,
   "metadata": {},
   "outputs": [
    {
     "name": "stdout",
     "output_type": "stream",
     "text": [
      "#! Imported seaborn dataset 'qpcr' \n",
      "\t columns:Index(['Unnamed: 0', 'gene', 'method', 'fraction', 'subject', 'donor', 'uFC',\n",
      "       'class', 'FC'],\n",
      "      dtype='object')\n",
      "\t dimensions: {'y': 'FC', 'x': 'gene', 'hue': 'fraction', 'col': 'class', 'row': 'method'}\n"
     ]
    }
   ],
   "source": [
    "DF, dims = plst.load_dataset(\"qpcr\")"
   ]
  },
  {
   "cell_type": "code",
   "execution_count": 3,
   "metadata": {},
   "outputs": [
    {
     "data": {
      "text/html": [
       "<div>\n",
       "<style scoped>\n",
       "    .dataframe tbody tr th:only-of-type {\n",
       "        vertical-align: middle;\n",
       "    }\n",
       "\n",
       "    .dataframe tbody tr th {\n",
       "        vertical-align: top;\n",
       "    }\n",
       "\n",
       "    .dataframe thead th {\n",
       "        text-align: right;\n",
       "    }\n",
       "</style>\n",
       "<table border=\"1\" class=\"dataframe\">\n",
       "  <thead>\n",
       "    <tr style=\"text-align: right;\">\n",
       "      <th></th>\n",
       "      <th>Unnamed: 0</th>\n",
       "      <th>gene</th>\n",
       "      <th>method</th>\n",
       "      <th>fraction</th>\n",
       "      <th>subject</th>\n",
       "      <th>donor</th>\n",
       "      <th>uFC</th>\n",
       "      <th>class</th>\n",
       "      <th>FC</th>\n",
       "    </tr>\n",
       "  </thead>\n",
       "  <tbody>\n",
       "    <tr>\n",
       "      <th>0</th>\n",
       "      <td>0</td>\n",
       "      <td>IFNG</td>\n",
       "      <td>MACS</td>\n",
       "      <td>F1</td>\n",
       "      <td>1</td>\n",
       "      <td>3266</td>\n",
       "      <td>0.003071</td>\n",
       "      <td>ECM &amp; Adhesion</td>\n",
       "      <td>1.036131</td>\n",
       "    </tr>\n",
       "    <tr>\n",
       "      <th>1</th>\n",
       "      <td>1</td>\n",
       "      <td>IFNG</td>\n",
       "      <td>MACS</td>\n",
       "      <td>F1</td>\n",
       "      <td>3</td>\n",
       "      <td>7613</td>\n",
       "      <td>0.003005</td>\n",
       "      <td>ECM &amp; Adhesion</td>\n",
       "      <td>1.013966</td>\n",
       "    </tr>\n",
       "    <tr>\n",
       "      <th>2</th>\n",
       "      <td>2</td>\n",
       "      <td>IFNG</td>\n",
       "      <td>MACS</td>\n",
       "      <td>F1</td>\n",
       "      <td>4</td>\n",
       "      <td>9721</td>\n",
       "      <td>0.002762</td>\n",
       "      <td>ECM &amp; Adhesion</td>\n",
       "      <td>0.932101</td>\n",
       "    </tr>\n",
       "    <tr>\n",
       "      <th>3</th>\n",
       "      <td>3</td>\n",
       "      <td>IFNG</td>\n",
       "      <td>MACS</td>\n",
       "      <td>F1</td>\n",
       "      <td>5</td>\n",
       "      <td>9526</td>\n",
       "      <td>0.002922</td>\n",
       "      <td>ECM &amp; Adhesion</td>\n",
       "      <td>0.986034</td>\n",
       "    </tr>\n",
       "    <tr>\n",
       "      <th>4</th>\n",
       "      <td>4</td>\n",
       "      <td>IFNG</td>\n",
       "      <td>MACS</td>\n",
       "      <td>F2</td>\n",
       "      <td>1</td>\n",
       "      <td>3266</td>\n",
       "      <td>0.008619</td>\n",
       "      <td>ECM &amp; Adhesion</td>\n",
       "      <td>2.908520</td>\n",
       "    </tr>\n",
       "  </tbody>\n",
       "</table>\n",
       "</div>"
      ],
      "text/plain": [
       "   Unnamed: 0  gene method fraction  subject  donor       uFC           class  \\\n",
       "0           0  IFNG   MACS       F1        1   3266  0.003071  ECM & Adhesion   \n",
       "1           1  IFNG   MACS       F1        3   7613  0.003005  ECM & Adhesion   \n",
       "2           2  IFNG   MACS       F1        4   9721  0.002762  ECM & Adhesion   \n",
       "3           3  IFNG   MACS       F1        5   9526  0.002922  ECM & Adhesion   \n",
       "4           4  IFNG   MACS       F2        1   3266  0.008619  ECM & Adhesion   \n",
       "\n",
       "         FC  \n",
       "0  1.036131  \n",
       "1  1.013966  \n",
       "2  0.932101  \n",
       "3  0.986034  \n",
       "4  2.908520  "
      ]
     },
     "execution_count": 3,
     "metadata": {},
     "output_type": "execute_result"
    }
   ],
   "source": [
    "# Show Data. It must be in long format! \n",
    "DF.head()"
   ]
  },
  {
   "cell_type": "code",
   "execution_count": 7,
   "metadata": {},
   "outputs": [
    {
     "data": {
      "text/plain": [
       "{'y': 'FC', 'x': 'gene', 'hue': 'fraction', 'col': 'class', 'row': 'method'}"
      ]
     },
     "execution_count": 7,
     "metadata": {},
     "output_type": "execute_result"
    }
   ],
   "source": [
    "# Show dims. It's a dictionary assigning each column to a dimension of y, x, hue, col, row\n",
    "dims"
   ]
  },
  {
   "cell_type": "markdown",
   "metadata": {},
   "source": [
    "## Initialize DataAnalysis Object\n",
    "- DataAnalysis will give you feedback on missing data:\n",
    "  - NaN count\n",
    "  - Samplesize"
   ]
  },
  {
   "cell_type": "markdown",
   "metadata": {},
   "source": []
  },
  {
   "cell_type": "code",
   "execution_count": 5,
   "metadata": {},
   "outputs": [
    {
     "name": "stdout",
     "output_type": "stream",
     "text": [
      "================================================================================\n",
      "#! checking data integrity...\n",
      "❗️ DATA INCOMPLETE: Among all combinations of levels from selected factors ['method', 'class', 'fraction', 'gene'], groups/facets are missing in the Dataframe. 👉 Call .data_get_empty_groupkeys() to see them all.\n",
      "✅ GROUPS COMPLETE: No groups with NaNs.\n",
      "🫠 GROUPS UNEQUAL: Groups (114 total) have different samplesizes (n = 5.2 ±0.89). 👉 Call .data_get_samplesizes() to see them.\n",
      "These are the 5 groups with the smallest samplesizes:\n",
      "method  class            fraction  gene \n",
      "MACS    Bone Metabolism  F1        SOST     4\n",
      "                                   FBN1     4\n",
      "        MMPs             F1        CCL20    3\n",
      "        Bone Metabolism  F1        TIMP1    3\n",
      "        MMPs             F1        IL2RG    1\n",
      "Name: FC, dtype: int64\n",
      " 🌳 LEVELS WELL CONNECTED: These Factors have levels that are always found together: ['method', 'fraction']. Call .levels_combocount() or .levels_dendrogram() to see them all.\n",
      "❗️ Subjects incomplete: The largest subject contains 57 datapoints, but these subjects contain less:\n",
      "subject\n",
      "3     56\n",
      "4     56\n",
      "5     56\n",
      "6     56\n",
      "12    56\n",
      "8     55\n",
      "1     54\n",
      "2     38\n",
      "Name: FC, dtype: int64\n",
      "================================================================================\n"
     ]
    }
   ],
   "source": [
    "DA = plst.DataAnalysis(data=DF,           # Dataframe\n",
    "                       dims=dims,         # Dictionary with y, x, hue, col, row \n",
    "                       subject=\"subject\", # Data is paired by subject (optional)\n",
    "                       )"
   ]
  },
  {
   "cell_type": "code",
   "execution_count": 6,
   "metadata": {},
   "outputs": [
    {
     "data": {
      "text/plain": [
       "<bound method DimsAndLevels.levels_dendrogram of <plotastic.dataanalysis.dataanalysis.DataAnalysis object at 0x2816b5cd0>>"
      ]
     },
     "execution_count": 6,
     "metadata": {},
     "output_type": "execute_result"
    }
   ],
   "source": [
    "DA.levels_dendrogram"
   ]
  }
 ],
 "metadata": {
  "kernelspec": {
   "display_name": "venv",
   "language": "python",
   "name": "python3"
  },
  "language_info": {
   "codemirror_mode": {
    "name": "ipython",
    "version": 3
   },
   "file_extension": ".py",
   "mimetype": "text/x-python",
   "name": "python",
   "nbconvert_exporter": "python",
   "pygments_lexer": "ipython3",
   "version": "3.11.6"
  }
 },
 "nbformat": 4,
 "nbformat_minor": 2
}
